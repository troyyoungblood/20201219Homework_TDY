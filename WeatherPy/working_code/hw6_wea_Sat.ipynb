{
 "cells": [
  {
   "cell_type": "code",
   "execution_count": null,
   "metadata": {},
   "outputs": [],
   "source": [
    "# Observation 1\n",
    "# The City Latitude vs Maximum Temperature scatter plot is analyzing the various maximum temperatures against latitude.\n",
    "# The data presented indicates an interesting relationship for the northern and southern hemispheres.\n",
    "# To the left of zero (southern hemisphere), the temperatures a fairly closely distributed from 40 F to 80 F,\n",
    "# increasing as approaching the equator.\n",
    "# To the right of zero (northern hemisphere), the temperatures have a wide range, decreasing as approaching the pole.\n",
    "# These behaviors are most likely presented because of the current season,\n",
    "# late fall, northern hemisphere, and late spring, southern hemisphere. (tilt of the earth and less sunlight)\n",
    "\n",
    "# Observation 2\n",
    "# The City Latitude vs Humidity scatter plot is analyzing the various humidity percentage values against latitude.\n",
    "# The data presented indicates a wide distribution of data points, most likely related to current weather conditions\n",
    "# such as a front or recent rain.\n",
    "# To the left of zero (southern hemisphere), the humidity is fairly scattered between latitidue values\n",
    "# with the majority of the points above 60% humidity.\n",
    "# To the right of zero (northern hemisphere), the humidity is fairly scatteres between latitiude values,\n",
    "# with the majority of the points above 60% humidity.  \n",
    "\n",
    "#Observation 3\n",
    "# The City Latitude vs Cloudiness and City Latitude vs Wind Speed scatter plots\n",
    "# represent data that is a snapshot in time when the data was collected. \n",
    "# They are not very valuable datasets."
   ]
  },
  {
   "cell_type": "markdown",
   "metadata": {},
   "source": [
    "# WeatherPy\n",
    "----\n",
    "\n",
    "#### Note\n",
    "* Instructions have been included for each segment. You do not have to follow them exactly, but they are included to help you think through the steps."
   ]
  },
  {
   "cell_type": "code",
   "execution_count": 72,
   "metadata": {
    "scrolled": true
   },
   "outputs": [],
   "source": [
    "# Dependencies and Setup\n",
    "import matplotlib.pyplot as plt\n",
    "import pandas as pd\n",
    "import numpy as np\n",
    "import requests\n",
    "import time\n",
    "from scipy.stats import linregress\n",
    "import scipy.stats as st\n",
    "import country_converter as coco\n",
    "from datetime import datetime\n",
    "\n",
    "# Import API key\n",
    "from api_keys import weather_api_key\n",
    "\n",
    "# Incorporated citipy to determine city based on latitude and longitude\n",
    "from citipy import citipy\n",
    "\n",
    "# Output File (CSV)\n",
    "output_data_file = \"output_data/cities.csv\"\n",
    "\n",
    "# Range of latitudes and longitudes\n",
    "# api.openweathermap.org/data/2.5/box/city?bbox={bbox}&appid={API key}\n",
    "# bbox required Bounding box [lon-left,lat-bottom,lon-right,lat-top,zoom]\n",
    "lat_range = (-90, 90)\n",
    "lng_range = (-180, 180)"
   ]
  },
  {
   "cell_type": "markdown",
   "metadata": {},
   "source": [
    "## Generate Cities List"
   ]
  },
  {
   "cell_type": "code",
   "execution_count": 2,
   "metadata": {},
   "outputs": [
    {
     "data": {
      "text/plain": [
       "632"
      ]
     },
     "execution_count": 2,
     "metadata": {},
     "output_type": "execute_result"
    }
   ],
   "source": [
    "# List for holding lat_lngs and cities\n",
    "lat_lngs = []\n",
    "cities = []\n",
    "\n",
    "# Create a set of random lat and lng combinations\n",
    "lats = np.random.uniform(lat_range[0], lat_range[1], size=1500)\n",
    "lngs = np.random.uniform(lng_range[0], lng_range[1], size=1500)\n",
    "lat_lngs = zip(lats, lngs)\n",
    "\n",
    "# Identify nearest city for each lat, lng combination\n",
    "for lat_lng in lat_lngs:\n",
    "    city = citipy.nearest_city(lat_lng[0], lat_lng[1]).city_name\n",
    "    \n",
    "    # If the city is unique, then add it to a our cities list\n",
    "    if city not in cities:\n",
    "        cities.append(city)\n",
    "\n",
    "# Print the city count to confirm sufficient count\n",
    "# minimum 500 cities\n",
    "len(cities)\n",
    "\n",
    "#Cities is a list\n",
    "# cities"
   ]
  },
  {
   "cell_type": "markdown",
   "metadata": {},
   "source": [
    "### Perform API Calls\n",
    "* Perform a weather check on each city using a series of successive API calls.\n",
    "* Include a print log of each city as it'sbeing processed (with the city number and city name).\n"
   ]
  },
  {
   "cell_type": "code",
   "execution_count": 3,
   "metadata": {},
   "outputs": [
    {
     "name": "stdout",
     "output_type": "stream",
     "text": [
      "Counter : 1, City : sisimiut\n",
      "Counter : 2, City : makakilo city\n",
      "weather data not available\n",
      "Counter : 3, City : banamba\n",
      "weather data not available\n",
      "Counter : 4, City : almaznyy\n",
      "Counter : 5, City : poshekhonye\n",
      "Counter : 6, City : rikitea\n",
      "Counter : 7, City : moengo\n",
      "Counter : 8, City : avarua\n",
      "Counter : 9, City : khatanga\n",
      "Counter : 10, City : ushuaia\n",
      "Counter : 11, City : pervomayskiy\n",
      "Counter : 12, City : luena\n",
      "Counter : 13, City : bluff\n",
      "Counter : 14, City : roald\n",
      "Counter : 15, City : mataura\n",
      "Counter : 16, City : bredasdorp\n",
      "Counter : 17, City : batsfjord\n",
      "Counter : 18, City : ilulissat\n",
      "Counter : 19, City : ulladulla\n",
      "Counter : 20, City : vilyuysk\n",
      "Counter : 21, City : vaini\n",
      "Counter : 22, City : adeje\n",
      "Counter : 23, City : celestun\n",
      "Counter : 24, City : taoudenni\n",
      "Counter : 25, City : tasiilaq\n",
      "Counter : 26, City : jamestown\n",
      "Counter : 27, City : kruisfontein\n",
      "Counter : 28, City : ostersund\n",
      "Counter : 29, City : aklavik\n",
      "Counter : 30, City : ponta do sol\n",
      "Counter : 31, City : berlevag\n",
      "Counter : 32, City : derzhavinsk\n",
      "Counter : 33, City : georgetown\n",
      "Counter : 34, City : zhenlai\n",
      "Counter : 35, City : esperance\n",
      "Counter : 36, City : westport\n",
      "Counter : 37, City : tilichiki\n",
      "Counter : 38, City : axim\n",
      "Counter : 39, City : swan river\n",
      "Counter : 40, City : gat\n",
      "Counter : 41, City : nemuro\n",
      "Counter : 42, City : puerto ayora\n",
      "Counter : 43, City : hami\n",
      "Counter : 44, City : nagahama\n",
      "Counter : 45, City : mar del plata\n",
      "Counter : 46, City : carnarvon\n",
      "Counter : 47, City : kamenka\n",
      "Counter : 48, City : albany\n",
      "Counter : 49, City : magdagachi\n",
      "Counter : 50, City : dolores\n",
      "Counter : 51, City : castro\n",
      "weather data not available\n",
      "Counter : 52, City : iranshahr\n",
      "Counter : 53, City : tynda\n",
      "Counter : 54, City : kapaa\n",
      "Counter : 55, City : dikson\n",
      "Counter : 56, City : yangambi\n",
      "weather data not available\n",
      "Counter : 57, City : sao filipe\n",
      "Counter : 58, City : nelson bay\n",
      "Counter : 59, City : norman wells\n",
      "Counter : 60, City : port augusta\n",
      "Counter : 61, City : broome\n",
      "Counter : 62, City : noyabrsk\n",
      "Counter : 63, City : saint-augustin\n",
      "Counter : 64, City : anadyr\n",
      "Counter : 65, City : blenheim\n",
      "Counter : 66, City : vila velha\n",
      "Counter : 67, City : vila franca do campo\n",
      "Counter : 68, City : gurupi\n",
      "Counter : 69, City : port elizabeth\n",
      "Counter : 70, City : hobart\n",
      "Counter : 71, City : kodiak\n",
      "Counter : 72, City : airai\n",
      "Counter : 73, City : buin\n",
      "Counter : 74, City : punta arenas\n",
      "Counter : 75, City : privolnyy\n",
      "Counter : 76, City : bilibino\n",
      "Counter : 77, City : butaritari\n",
      "Counter : 78, City : busselton\n",
      "Counter : 79, City : ankara\n",
      "Counter : 80, City : zhanjiang\n",
      "Counter : 81, City : iqaluit\n",
      "Counter : 82, City : acajutla\n",
      "Counter : 83, City : mys shmidta\n",
      "Counter : 84, City : dwarka\n",
      "Counter : 85, City : pacific grove\n",
      "weather data not available\n",
      "weather data not available\n",
      "Counter : 86, City : khandyga\n",
      "Counter : 87, City : ketchikan\n",
      "Counter : 88, City : marienburg\n",
      "Counter : 89, City : tazovskiy\n",
      "Counter : 90, City : hobyo\n",
      "Counter : 91, City : cherskiy\n",
      "Counter : 92, City : wanning\n",
      "Counter : 93, City : cape town\n",
      "Counter : 94, City : vardo\n",
      "Counter : 95, City : rawson\n",
      "weather data not available\n",
      "Counter : 96, City : hasaki\n",
      "Counter : 97, City : mikhaylovsk\n",
      "Counter : 98, City : hithadhoo\n",
      "Counter : 99, City : port alfred\n",
      "Counter : 100, City : korla\n",
      "Counter : 101, City : nikolskoye\n",
      "Counter : 102, City : biankouma\n",
      "Counter : 103, City : borgarnes\n",
      "Counter : 104, City : atuona\n",
      "Counter : 105, City : guasdualito\n",
      "Counter : 106, City : provideniya\n",
      "Counter : 107, City : qaanaaq\n",
      "Counter : 108, City : lompoc\n",
      "weather data not available\n",
      "Counter : 109, City : lusambo\n",
      "Counter : 110, City : kyabram\n",
      "Counter : 111, City : gravdal\n",
      "Counter : 112, City : sorland\n",
      "weather data not available\n",
      "Counter : 113, City : nanortalik\n",
      "Counter : 114, City : verkhoyansk\n",
      "Counter : 115, City : new norfolk\n",
      "Counter : 116, City : beloha\n",
      "Counter : 117, City : yar-sale\n",
      "Counter : 118, City : irbeyskoye\n",
      "Counter : 119, City : tocopilla\n",
      "Counter : 120, City : dargaville\n",
      "Counter : 121, City : ribeira grande\n",
      "Counter : 122, City : chumikan\n",
      "Counter : 123, City : angoche\n",
      "Counter : 124, City : olafsvik\n",
      "Counter : 125, City : kununurra\n",
      "Counter : 126, City : pevek\n",
      "Counter : 127, City : east london\n",
      "Counter : 128, City : muros\n",
      "Counter : 129, City : port hedland\n",
      "Counter : 130, City : saint-philippe\n",
      "Counter : 131, City : boa vista\n",
      "Counter : 132, City : mount gambier\n",
      "Counter : 133, City : saskylakh\n",
      "Counter : 134, City : chuy\n",
      "weather data not available\n",
      "Counter : 135, City : narsaq\n",
      "Counter : 136, City : ivdel\n",
      "Counter : 137, City : zapolyarnyy\n",
      "Counter : 138, City : teguldet\n",
      "Counter : 139, City : loandjili\n",
      "weather data not available\n",
      "Counter : 140, City : mafinga\n",
      "Counter : 141, City : geraldton\n",
      "Counter : 142, City : tiksi\n",
      "Counter : 143, City : sao miguel do araguaia\n",
      "Counter : 144, City : hermanus\n",
      "Counter : 145, City : harrai\n",
      "Counter : 146, City : nizhniy tsasuchey\n",
      "Counter : 147, City : mizdah\n",
      "weather data not available\n",
      "Counter : 148, City : moscow\n",
      "Counter : 149, City : marzuq\n",
      "Counter : 150, City : tsumeb\n",
      "weather data not available\n",
      "Counter : 151, City : kenora\n",
      "Counter : 152, City : hilo\n",
      "Counter : 153, City : sitka\n",
      "Counter : 154, City : port macquarie\n",
      "weather data not available\n",
      "Counter : 155, City : riyadh\n",
      "weather data not available\n",
      "Counter : 156, City : yellowknife\n",
      "Counter : 157, City : piney green\n",
      "Counter : 158, City : iquique\n",
      "Counter : 159, City : arraial do cabo\n",
      "Counter : 160, City : alzamay\n",
      "Counter : 161, City : severo-kurilsk\n",
      "Counter : 162, City : barcelos\n",
      "Counter : 163, City : baykalsk\n",
      "Counter : 164, City : rudnichnyy\n",
      "Counter : 165, City : bambous virieux\n",
      "Counter : 166, City : nioro\n",
      "Counter : 167, City : thinadhoo\n",
      "Counter : 168, City : novopokrovka\n",
      "weather data not available\n",
      "weather data not available\n",
      "Counter : 169, City : meadow lake\n",
      "Counter : 170, City : jawa\n",
      "Counter : 171, City : nishihara\n",
      "Counter : 172, City : eustis\n",
      "Counter : 173, City : taitung\n",
      "weather data not available\n",
      "Counter : 174, City : tabas\n",
      "Counter : 175, City : indiana\n",
      "Counter : 176, City : mattawa\n",
      "Counter : 177, City : belawan\n",
      "Counter : 178, City : upernavik\n",
      "Counter : 179, City : sonderborg\n",
      "Counter : 180, City : hualmay\n",
      "Counter : 181, City : san isidro\n",
      "Counter : 182, City : fort nelson\n",
      "Counter : 183, City : moose factory\n",
      "Counter : 184, City : qingdao\n",
      "Counter : 185, City : codrington\n",
      "Counter : 186, City : amuntai\n",
      "Counter : 187, City : srandakan\n",
      "Counter : 188, City : singkang\n",
      "Counter : 189, City : boiu mare\n",
      "Counter : 190, City : yarqa\n",
      "weather data not available\n",
      "Counter : 191, City : poli\n",
      "Counter : 192, City : praia da vitoria\n",
      "Counter : 193, City : acapulco\n",
      "Counter : 194, City : victoria point\n",
      "Counter : 195, City : moranbah\n",
      "Counter : 196, City : salinas\n",
      "Counter : 197, City : rajapur\n",
      "Counter : 198, City : baykit\n",
      "Counter : 199, City : liaozhong\n",
      "Counter : 200, City : cherepovets\n",
      "Counter : 201, City : wau\n",
      "Counter : 202, City : egvekinot\n",
      "Counter : 203, City : dali\n",
      "Counter : 204, City : santa cruz\n",
      "Counter : 205, City : faanui\n",
      "Counter : 206, City : lima\n",
      "Counter : 207, City : buala\n",
      "Counter : 208, City : cockburn town\n",
      "weather data not available\n",
      "Counter : 209, City : chuguyevka\n",
      "Counter : 210, City : tuktoyaktuk\n",
      "Counter : 211, City : bethel\n",
      "Counter : 212, City : spartanburg\n",
      "Counter : 213, City : barrow\n",
      "Counter : 214, City : port lincoln\n",
      "Counter : 215, City : oistins\n",
      "Counter : 216, City : san patricio\n",
      "weather data not available\n",
      "Counter : 217, City : comodoro rivadavia\n",
      "weather data not available\n",
      "Counter : 218, City : padang\n",
      "Counter : 219, City : smithers\n",
      "Counter : 220, City : omsukchan\n",
      "Counter : 221, City : college\n",
      "Counter : 222, City : puerto carreno\n",
      "Counter : 223, City : chateaubelair\n",
      "Counter : 224, City : san cristobal\n",
      "Counter : 225, City : grand baie\n",
      "Counter : 226, City : san juan\n",
      "Counter : 227, City : houlton\n",
      "weather data not available\n",
      "Counter : 228, City : longyearbyen\n",
      "Counter : 229, City : chaparral\n",
      "Counter : 230, City : namatanai\n",
      "Counter : 231, City : tombouctou\n",
      "Counter : 232, City : huancavelica\n",
      "weather data not available\n",
      "Counter : 233, City : verkhnyaya inta\n",
      "Counter : 234, City : valparaiso\n",
      "Counter : 235, City : tabou\n",
      "Counter : 236, City : siddapur\n",
      "Counter : 237, City : sao gabriel\n",
      "Counter : 238, City : kaitangata\n",
      "Counter : 239, City : antalaha\n",
      "Counter : 240, City : najran\n",
      "Counter : 241, City : saldanha\n",
      "Counter : 242, City : noumea\n",
      "Counter : 243, City : navirai\n"
     ]
    },
    {
     "name": "stdout",
     "output_type": "stream",
     "text": [
      "Counter : 244, City : touros\n",
      "weather data not available\n",
      "Counter : 245, City : missoula\n",
      "Counter : 246, City : hvolsvollur\n",
      "Counter : 247, City : rocha\n",
      "Counter : 248, City : santiago\n",
      "Counter : 249, City : maunabo\n",
      "Counter : 250, City : alyangula\n",
      "Counter : 251, City : berdigestyakh\n",
      "Counter : 252, City : north bend\n",
      "Counter : 253, City : shanghai\n",
      "Counter : 254, City : troitsko-pechorsk\n",
      "weather data not available\n",
      "Counter : 255, City : isangel\n",
      "Counter : 256, City : guiratinga\n",
      "Counter : 257, City : saint-pierre\n",
      "Counter : 258, City : sao paulo de olivenca\n",
      "Counter : 259, City : bulungu\n",
      "Counter : 260, City : arona\n",
      "Counter : 261, City : lira\n",
      "Counter : 262, City : sinnamary\n",
      "Counter : 263, City : mount isa\n",
      "Counter : 264, City : arnes\n",
      "Counter : 265, City : polunochnoye\n",
      "Counter : 266, City : huangzhou\n",
      "Counter : 267, City : kristiansund\n",
      "weather data not available\n",
      "Counter : 268, City : mahebourg\n",
      "Counter : 269, City : port-gentil\n",
      "weather data not available\n",
      "Counter : 270, City : bac lieu\n",
      "Counter : 271, City : katsuura\n",
      "Counter : 272, City : nizwa\n",
      "Counter : 273, City : trairi\n",
      "Counter : 274, City : marawi\n",
      "Counter : 275, City : tahe\n",
      "Counter : 276, City : half moon bay\n",
      "Counter : 277, City : pisco\n",
      "Counter : 278, City : nalut\n",
      "Counter : 279, City : sukhobuzimskoye\n",
      "weather data not available\n",
      "Counter : 280, City : lagoa\n",
      "Counter : 281, City : cidreira\n",
      "Counter : 282, City : bonthe\n",
      "Counter : 283, City : grand river south east\n",
      "Counter : 284, City : ballina\n",
      "weather data not available\n",
      "Counter : 285, City : narasannapeta\n",
      "weather data not available\n",
      "Counter : 286, City : diffa\n",
      "Counter : 287, City : kabare\n",
      "Counter : 288, City : svetlogorsk\n",
      "Counter : 289, City : vanderhoof\n",
      "Counter : 290, City : adamov\n",
      "Counter : 291, City : clarence town\n",
      "Counter : 292, City : balkanabat\n",
      "Counter : 293, City : mayo\n",
      "weather data not available\n",
      "Counter : 294, City : neiafu\n",
      "Counter : 295, City : northam\n",
      "Counter : 296, City : mutis\n",
      "Counter : 297, City : torbay\n",
      "Counter : 298, City : kaeo\n",
      "Counter : 299, City : verkhnevilyuysk\n",
      "Counter : 300, City : souillac\n",
      "Counter : 301, City : havre-saint-pierre\n",
      "Counter : 302, City : yeppoon\n",
      "Counter : 303, City : ilhabela\n",
      "Counter : 304, City : juli\n",
      "Counter : 305, City : fairbanks\n",
      "Counter : 306, City : vao\n",
      "Counter : 307, City : margate\n",
      "Counter : 308, City : tupik\n",
      "Counter : 309, City : houma\n",
      "Counter : 310, City : paita\n",
      "weather data not available\n",
      "Counter : 311, City : sembe\n",
      "Counter : 312, City : carberry\n",
      "Counter : 313, City : santarem\n",
      "Counter : 314, City : kloulklubed\n",
      "Counter : 315, City : honiara\n",
      "Counter : 316, City : nha trang\n",
      "weather data not available\n",
      "Counter : 317, City : puerto escondido\n",
      "Counter : 318, City : santa cruz de la palma\n",
      "Counter : 319, City : erdenet\n",
      "Counter : 320, City : tura\n",
      "Counter : 321, City : port said\n",
      "Counter : 322, City : arlit\n",
      "Counter : 323, City : porto santo\n",
      "Counter : 324, City : abu samrah\n",
      "Counter : 325, City : sioux lookout\n",
      "Counter : 326, City : tessalit\n",
      "Counter : 327, City : aktau\n",
      "Counter : 328, City : kalanguy\n",
      "Counter : 329, City : san ramon\n",
      "Counter : 330, City : cabo san lucas\n",
      "weather data not available\n",
      "Counter : 331, City : mannheim\n",
      "Counter : 332, City : port-cartier\n",
      "Counter : 333, City : aksarka\n",
      "Counter : 334, City : tautira\n",
      "weather data not available\n",
      "Counter : 335, City : barcelona\n",
      "Counter : 336, City : silver city\n",
      "Counter : 337, City : abu dhabi\n",
      "Counter : 338, City : sola\n",
      "Counter : 339, City : thompson\n",
      "Counter : 340, City : les cayes\n",
      "Counter : 341, City : trujillo\n",
      "Counter : 342, City : kasongo-lunda\n",
      "Counter : 343, City : yerbogachen\n",
      "Counter : 344, City : fortuna\n",
      "Counter : 345, City : praia\n",
      "Counter : 346, City : mabaruma\n",
      "Counter : 347, City : bambanglipuro\n",
      "Counter : 348, City : victoria\n",
      "Counter : 349, City : marfino\n",
      "Counter : 350, City : san quintin\n",
      "Counter : 351, City : pavlodar\n",
      "Counter : 352, City : laguna\n",
      "Counter : 353, City : longyan\n",
      "Counter : 354, City : salalah\n",
      "Counter : 355, City : coihaique\n",
      "weather data not available\n",
      "weather data not available\n",
      "Counter : 356, City : belmonte\n",
      "Counter : 357, City : dong xoai\n",
      "weather data not available\n",
      "Counter : 358, City : van wert\n",
      "weather data not available\n",
      "weather data not available\n",
      "Counter : 359, City : chapada dos guimaraes\n",
      "Counter : 360, City : khasan\n",
      "Counter : 361, City : bubaque\n",
      "Counter : 362, City : chokurdakh\n",
      "Counter : 363, City : karratha\n",
      "Counter : 364, City : hibbing\n",
      "Counter : 365, City : wicklow\n",
      "Counter : 366, City : cayenne\n",
      "Counter : 367, City : sur\n",
      "Counter : 368, City : waingapu\n",
      "Counter : 369, City : sagarejo\n",
      "Counter : 370, City : mityana\n",
      "Counter : 371, City : ixtapa\n",
      "Counter : 372, City : jeremie\n",
      "Counter : 373, City : mananara\n",
      "Counter : 374, City : imbituba\n",
      "Counter : 375, City : cururupu\n",
      "Counter : 376, City : leningradskiy\n",
      "Counter : 377, City : goderich\n",
      "Counter : 378, City : talcahuano\n",
      "Counter : 379, City : paracale\n",
      "Counter : 380, City : saint-joseph\n",
      "Counter : 381, City : moorhead\n",
      "Counter : 382, City : kulykivka\n",
      "Counter : 383, City : rapu-rapu\n",
      "Counter : 384, City : hamilton\n",
      "Counter : 385, City : bonavista\n",
      "Counter : 386, City : matara\n",
      "weather data not available\n",
      "Counter : 387, City : avera\n",
      "Counter : 388, City : norrtalje\n",
      "weather data not available\n",
      "Counter : 389, City : oranjemund\n",
      "Counter : 390, City : sibolga\n",
      "Counter : 391, City : lavrentiya\n",
      "Counter : 392, City : batagay\n",
      "Counter : 393, City : voskresenskoye\n",
      "Counter : 394, City : miri\n",
      "Counter : 395, City : iquitos\n",
      "Counter : 396, City : trat\n",
      "Counter : 397, City : santa helena de goias\n",
      "Counter : 398, City : san carlos de bariloche\n",
      "Counter : 399, City : epe\n",
      "Counter : 400, City : auki\n",
      "Counter : 401, City : flin flon\n",
      "weather data not available\n",
      "Counter : 402, City : brigantine\n",
      "Counter : 403, City : tucurui\n",
      "Counter : 404, City : dawson creek\n",
      "Counter : 405, City : ledyard\n",
      "Counter : 406, City : deputatskiy\n",
      "Counter : 407, City : ahipara\n",
      "Counter : 408, City : ancud\n",
      "Counter : 409, City : arrecife\n",
      "Counter : 410, City : jaragua do sul\n",
      "Counter : 411, City : anchovy\n",
      "Counter : 412, City : linares\n",
      "Counter : 413, City : mogocha\n",
      "Counter : 414, City : anito\n",
      "Counter : 415, City : minas\n",
      "Counter : 416, City : svetlyy\n",
      "Counter : 417, City : adrar\n",
      "Counter : 418, City : deniliquin\n",
      "Counter : 419, City : alofi\n",
      "Counter : 420, City : namtsy\n",
      "Counter : 421, City : lebu\n",
      "weather data not available\n",
      "weather data not available\n",
      "weather data not available\n",
      "Counter : 422, City : adamovka\n",
      "weather data not available\n",
      "Counter : 423, City : kodinsk\n",
      "Counter : 424, City : kahului\n",
      "Counter : 425, City : dilla\n",
      "Counter : 426, City : huarmey\n",
      "Counter : 427, City : chickasha\n",
      "Counter : 428, City : kulhudhuffushi\n",
      "Counter : 429, City : antsohihy\n",
      "weather data not available\n",
      "Counter : 430, City : marechal candido rondon\n",
      "Counter : 431, City : tabory\n",
      "weather data not available\n",
      "Counter : 432, City : araouane\n",
      "Counter : 433, City : isla mujeres\n",
      "Counter : 434, City : tual\n",
      "Counter : 435, City : katangli\n",
      "Counter : 436, City : impfondo\n",
      "Counter : 437, City : kautokeino\n",
      "weather data not available\n",
      "Counter : 438, City : lodja\n",
      "Counter : 439, City : maebaru\n",
      "Counter : 440, City : vyazemskiy\n",
      "Counter : 441, City : kikwit\n",
      "Counter : 442, City : rio tercero\n",
      "weather data not available\n",
      "Counter : 443, City : luganville\n",
      "Counter : 444, City : lata\n",
      "Counter : 445, City : kayes\n",
      "weather data not available\n",
      "Counter : 446, City : takoradi\n",
      "weather data not available\n",
      "Counter : 447, City : hay river\n",
      "Counter : 448, City : mayumba\n",
      "Counter : 449, City : zhigansk\n",
      "Counter : 450, City : talara\n",
      "Counter : 451, City : paducah\n",
      "Counter : 452, City : montrose\n",
      "weather data not available\n",
      "Counter : 453, City : faya\n",
      "Counter : 454, City : srednekolymsk\n",
      "Counter : 455, City : lazaro cardenas\n",
      "Counter : 456, City : neon karlovasion\n",
      "weather data not available\n",
      "Counter : 457, City : tala\n",
      "Counter : 458, City : englewood\n",
      "Counter : 459, City : lubango\n",
      "Counter : 460, City : osoyoos\n",
      "weather data not available\n",
      "Counter : 461, City : nyurba\n",
      "Counter : 462, City : bolobo\n",
      "Counter : 463, City : talnakh\n",
      "weather data not available\n",
      "Counter : 464, City : boysun\n",
      "weather data not available\n",
      "Counter : 465, City : shaunavon\n",
      "Counter : 466, City : mahalapye\n",
      "Counter : 467, City : inuvik\n",
      "Counter : 468, City : uruguaiana\n",
      "Counter : 469, City : ottawa\n",
      "Counter : 470, City : tiznit\n",
      "Counter : 471, City : camana\n",
      "Counter : 472, City : sheffield lake\n",
      "Counter : 473, City : saint-louis\n",
      "weather data not available\n"
     ]
    },
    {
     "name": "stdout",
     "output_type": "stream",
     "text": [
      "weather data not available\n",
      "Counter : 474, City : gilbues\n",
      "Counter : 475, City : constantine\n",
      "Counter : 476, City : severnyy\n",
      "Counter : 477, City : price\n",
      "Counter : 478, City : gornozavodsk\n",
      "Counter : 479, City : whitehorse\n",
      "Counter : 480, City : tomatlan\n",
      "Counter : 481, City : ngunguru\n",
      "Counter : 482, City : dukat\n",
      "weather data not available\n",
      "Counter : 483, City : kieta\n",
      "Counter : 484, City : oktyabrskiy\n",
      "Counter : 485, City : wajir\n",
      "Counter : 486, City : novikovo\n",
      "Counter : 487, City : santiago de las vegas\n",
      "Counter : 488, City : mosonmagyarovar\n",
      "weather data not available\n",
      "Counter : 489, City : atherton\n",
      "Counter : 490, City : ovsyanka\n",
      "Counter : 491, City : vanimo\n",
      "Counter : 492, City : bafq\n",
      "Counter : 493, City : yumen\n",
      "Counter : 494, City : mbarara\n",
      "Counter : 495, City : brae\n",
      "Counter : 496, City : moree\n",
      "Counter : 497, City : bathsheba\n",
      "Counter : 498, City : tutoia\n",
      "Counter : 499, City : guerrero negro\n",
      "Counter : 500, City : charlestown\n",
      "weather data not available\n",
      "Counter : 501, City : pangnirtung\n",
      "weather data not available\n",
      "Counter : 502, City : zholymbet\n",
      "Counter : 503, City : tongliao\n",
      "Counter : 504, City : asau\n",
      "Counter : 505, City : coquimbo\n",
      "Counter : 506, City : san carlos\n",
      "Counter : 507, City : delta del tigre\n",
      "Counter : 508, City : bentiu\n",
      "Counter : 509, City : dingle\n",
      "Counter : 510, City : yatou\n",
      "Counter : 511, City : obo\n",
      "Counter : 512, City : buriti alegre\n",
      "Counter : 513, City : nushki\n",
      "Counter : 514, City : yulara\n",
      "Counter : 515, City : babanka\n",
      "Counter : 516, City : belaya gora\n",
      "Counter : 517, City : luderitz\n",
      "Counter : 518, City : vertientes\n",
      "Counter : 519, City : ibanda\n",
      "Counter : 520, City : tsarychanka\n",
      "Counter : 521, City : nuuk\n",
      "Counter : 522, City : mishkino\n",
      "Counter : 523, City : brazzaville\n",
      "Counter : 524, City : bengkulu\n",
      "weather data not available\n",
      "Counter : 525, City : necochea\n",
      "Counter : 526, City : alugan\n",
      "Counter : 527, City : santa cruz del sur\n",
      "Counter : 528, City : xinye\n",
      "weather data not available\n",
      "Counter : 529, City : bandarbeyla\n",
      "Counter : 530, City : alice springs\n",
      "Counter : 531, City : kizhinga\n",
      "Counter : 532, City : klaksvik\n",
      "Counter : 533, City : kenosha\n",
      "Counter : 534, City : cam ranh\n",
      "Counter : 535, City : itoman\n",
      "Counter : 536, City : vestmanna\n",
      "Counter : 537, City : honningsvag\n",
      "Counter : 538, City : kuala terengganu\n",
      "Counter : 539, City : toamasina\n",
      "Counter : 540, City : sosnogorsk\n",
      "Counter : 541, City : lumphat\n",
      "Counter : 542, City : labuhan\n",
      "Counter : 543, City : volgodonsk\n",
      "Counter : 544, City : koshurnikovo\n",
      "Counter : 545, City : constitucion\n",
      "weather data not available\n",
      "Counter : 546, City : koster\n",
      "Counter : 547, City : lingao\n",
      "weather data not available\n",
      "Counter : 548, City : kudahuvadhoo\n",
      "Counter : 549, City : manta\n",
      "Counter : 550, City : mantua\n",
      "weather data not available\n",
      "Counter : 551, City : toora-khem\n",
      "Counter : 552, City : joshimath\n",
      "Counter : 553, City : tuatapere\n",
      "Counter : 554, City : sao sebastiao\n",
      "Counter : 555, City : richards bay\n",
      "weather data not available\n",
      "weather data not available\n",
      "Counter : 556, City : clyde river\n",
      "weather data not available\n",
      "Counter : 557, City : czersk\n",
      "Counter : 558, City : estrela\n",
      "Counter : 559, City : coxim\n"
     ]
    }
   ],
   "source": [
    "# loop through cities, create list of responseL\n",
    "\n",
    "\n",
    "# Lists for the dataframe\n",
    "locations = []\n",
    "clouds = []\n",
    "humidity = []\n",
    "lat = []\n",
    "lon = []\n",
    "max_temp = []\n",
    "wind = []\n",
    "country = []\n",
    "dates = []\n",
    "allcitydata = []\n",
    "\n",
    "# Initial counter\n",
    "counter = 0\n",
    "\n",
    "# Did not used this - for some crazy reason - when using this format, the exception statement will not print\n",
    "# url = \"http://api.openweathermap.org/data/2.5/weather?\"\n",
    "# query_url = url + \"appid=\" + weather_api_key + \"&q=\" + city + \"&units=imperial\"\n",
    "\n",
    "query_url = f\"http://api.openweathermap.org/data/2.5/weather?appid=\"+ weather_api_key +\"&units=imperial&q=\"\n",
    "\n",
    "for city in cities:\n",
    "    try:\n",
    "        response = requests.get(query_url + city.replace(\" \",\"&\")).json()\n",
    "        clouds.append(response['clouds']['all'])\n",
    "        humidity.append(response['main']['humidity'])\n",
    "        lat.append(response['coord']['lat'])\n",
    "        lon.append(response['coord']['lon'])\n",
    "        max_temp.append(response['main']['temp_max'])\n",
    "        wind.append(response['wind']['speed'])\n",
    "        country.append(response['sys']['country'])\n",
    "        locations.append(response['name'])\n",
    "        dates.append(response['dt'])\n",
    "        allcitydata.append(response)\n",
    "        counter = counter + 1\n",
    "        print(f\"Counter : {counter}, City : {city}\")\n",
    "    except Exception:\n",
    "        print(\"weather data not available\")"
   ]
  },
  {
   "cell_type": "code",
   "execution_count": 4,
   "metadata": {},
   "outputs": [],
   "source": [
    "# allcitydata\n",
    "# clouds\n",
    "# dates\n",
    "# humidity\n",
    "# lat\n",
    "# lon\n",
    "# max_temp\n",
    "# wind\n",
    "# country\n",
    "# locations"
   ]
  },
  {
   "cell_type": "code",
   "execution_count": 13,
   "metadata": {},
   "outputs": [],
   "source": [
    "#Convert country abbreviations to full name\n",
    "full_cnames = coco.convert(names=country, to='name_short')\n",
    "# full_cnames"
   ]
  },
  {
   "cell_type": "markdown",
   "metadata": {},
   "source": [
    "### Convert Raw Data to DataFrame\n",
    "* Export the city data into a .csv.\n",
    "* Display the DataFrame"
   ]
  },
  {
   "cell_type": "code",
   "execution_count": 47,
   "metadata": {},
   "outputs": [
    {
     "data": {
      "text/html": [
       "<div>\n",
       "<style scoped>\n",
       "    .dataframe tbody tr th:only-of-type {\n",
       "        vertical-align: middle;\n",
       "    }\n",
       "\n",
       "    .dataframe tbody tr th {\n",
       "        vertical-align: top;\n",
       "    }\n",
       "\n",
       "    .dataframe thead th {\n",
       "        text-align: right;\n",
       "    }\n",
       "</style>\n",
       "<table border=\"1\" class=\"dataframe\">\n",
       "  <thead>\n",
       "    <tr style=\"text-align: right;\">\n",
       "      <th></th>\n",
       "      <th>City</th>\n",
       "      <th>Country</th>\n",
       "      <th>Latitude</th>\n",
       "      <th>Longitude</th>\n",
       "      <th>Max_temp_F</th>\n",
       "      <th>Humidity_Percent</th>\n",
       "      <th>Cloudy_Percent</th>\n",
       "      <th>Wind_Speed_mph</th>\n",
       "      <th>Date</th>\n",
       "    </tr>\n",
       "  </thead>\n",
       "  <tbody>\n",
       "    <tr>\n",
       "      <th>0</th>\n",
       "      <td>Sisimiut</td>\n",
       "      <td>Greenland</td>\n",
       "      <td>66.94</td>\n",
       "      <td>-53.67</td>\n",
       "      <td>21.61</td>\n",
       "      <td>84</td>\n",
       "      <td>100</td>\n",
       "      <td>6.31</td>\n",
       "      <td>1607817321</td>\n",
       "    </tr>\n",
       "    <tr>\n",
       "      <th>1</th>\n",
       "      <td>Makakilo</td>\n",
       "      <td>United States</td>\n",
       "      <td>21.35</td>\n",
       "      <td>-158.09</td>\n",
       "      <td>84.20</td>\n",
       "      <td>48</td>\n",
       "      <td>20</td>\n",
       "      <td>10.29</td>\n",
       "      <td>1607817286</td>\n",
       "    </tr>\n",
       "    <tr>\n",
       "      <th>2</th>\n",
       "      <td>Banamba</td>\n",
       "      <td>Mali</td>\n",
       "      <td>13.55</td>\n",
       "      <td>-7.45</td>\n",
       "      <td>70.50</td>\n",
       "      <td>23</td>\n",
       "      <td>0</td>\n",
       "      <td>7.85</td>\n",
       "      <td>1607817322</td>\n",
       "    </tr>\n",
       "    <tr>\n",
       "      <th>3</th>\n",
       "      <td>Almaznyy</td>\n",
       "      <td>Russia</td>\n",
       "      <td>48.04</td>\n",
       "      <td>40.05</td>\n",
       "      <td>32.00</td>\n",
       "      <td>96</td>\n",
       "      <td>75</td>\n",
       "      <td>20.13</td>\n",
       "      <td>1607817322</td>\n",
       "    </tr>\n",
       "    <tr>\n",
       "      <th>4</th>\n",
       "      <td>Poshekhon'ye</td>\n",
       "      <td>Russia</td>\n",
       "      <td>58.50</td>\n",
       "      <td>39.14</td>\n",
       "      <td>11.50</td>\n",
       "      <td>95</td>\n",
       "      <td>17</td>\n",
       "      <td>5.68</td>\n",
       "      <td>1607817322</td>\n",
       "    </tr>\n",
       "    <tr>\n",
       "      <th>...</th>\n",
       "      <td>...</td>\n",
       "      <td>...</td>\n",
       "      <td>...</td>\n",
       "      <td>...</td>\n",
       "      <td>...</td>\n",
       "      <td>...</td>\n",
       "      <td>...</td>\n",
       "      <td>...</td>\n",
       "      <td>...</td>\n",
       "    </tr>\n",
       "    <tr>\n",
       "      <th>554</th>\n",
       "      <td>Richards</td>\n",
       "      <td>United States</td>\n",
       "      <td>46.84</td>\n",
       "      <td>-95.91</td>\n",
       "      <td>21.20</td>\n",
       "      <td>85</td>\n",
       "      <td>90</td>\n",
       "      <td>6.93</td>\n",
       "      <td>1607817418</td>\n",
       "    </tr>\n",
       "    <tr>\n",
       "      <th>555</th>\n",
       "      <td>Clyde</td>\n",
       "      <td>United States</td>\n",
       "      <td>41.30</td>\n",
       "      <td>-82.98</td>\n",
       "      <td>46.99</td>\n",
       "      <td>77</td>\n",
       "      <td>12</td>\n",
       "      <td>1.99</td>\n",
       "      <td>1607817419</td>\n",
       "    </tr>\n",
       "    <tr>\n",
       "      <th>556</th>\n",
       "      <td>Czersk</td>\n",
       "      <td>Poland</td>\n",
       "      <td>53.80</td>\n",
       "      <td>17.98</td>\n",
       "      <td>34.00</td>\n",
       "      <td>96</td>\n",
       "      <td>100</td>\n",
       "      <td>11.01</td>\n",
       "      <td>1607817419</td>\n",
       "    </tr>\n",
       "    <tr>\n",
       "      <th>557</th>\n",
       "      <td>Estrela</td>\n",
       "      <td>Brazil</td>\n",
       "      <td>-28.06</td>\n",
       "      <td>-50.94</td>\n",
       "      <td>63.36</td>\n",
       "      <td>94</td>\n",
       "      <td>64</td>\n",
       "      <td>4.88</td>\n",
       "      <td>1607817419</td>\n",
       "    </tr>\n",
       "    <tr>\n",
       "      <th>558</th>\n",
       "      <td>Coxim</td>\n",
       "      <td>Brazil</td>\n",
       "      <td>-18.51</td>\n",
       "      <td>-54.76</td>\n",
       "      <td>78.12</td>\n",
       "      <td>68</td>\n",
       "      <td>32</td>\n",
       "      <td>6.71</td>\n",
       "      <td>1607817419</td>\n",
       "    </tr>\n",
       "  </tbody>\n",
       "</table>\n",
       "<p>559 rows × 9 columns</p>\n",
       "</div>"
      ],
      "text/plain": [
       "             City        Country  Latitude  Longitude  Max_temp_F  \\\n",
       "0        Sisimiut      Greenland     66.94     -53.67       21.61   \n",
       "1        Makakilo  United States     21.35    -158.09       84.20   \n",
       "2         Banamba           Mali     13.55      -7.45       70.50   \n",
       "3        Almaznyy         Russia     48.04      40.05       32.00   \n",
       "4    Poshekhon'ye         Russia     58.50      39.14       11.50   \n",
       "..            ...            ...       ...        ...         ...   \n",
       "554      Richards  United States     46.84     -95.91       21.20   \n",
       "555         Clyde  United States     41.30     -82.98       46.99   \n",
       "556        Czersk         Poland     53.80      17.98       34.00   \n",
       "557       Estrela         Brazil    -28.06     -50.94       63.36   \n",
       "558         Coxim         Brazil    -18.51     -54.76       78.12   \n",
       "\n",
       "     Humidity_Percent  Cloudy_Percent  Wind_Speed_mph        Date  \n",
       "0                  84             100            6.31  1607817321  \n",
       "1                  48              20           10.29  1607817286  \n",
       "2                  23               0            7.85  1607817322  \n",
       "3                  96              75           20.13  1607817322  \n",
       "4                  95              17            5.68  1607817322  \n",
       "..                ...             ...             ...         ...  \n",
       "554                85              90            6.93  1607817418  \n",
       "555                77              12            1.99  1607817419  \n",
       "556                96             100           11.01  1607817419  \n",
       "557                94              64            4.88  1607817419  \n",
       "558                68              32            6.71  1607817419  \n",
       "\n",
       "[559 rows x 9 columns]"
      ]
     },
     "execution_count": 47,
     "metadata": {},
     "output_type": "execute_result"
    }
   ],
   "source": [
    "# Weather data (wd) dataframe\n",
    "\n",
    "wd_df = pd.DataFrame({\"City\" : locations, \"Country\" : full_cnames,\n",
    "                     \"Latitude\" : lat, \"Longitude\" : lon,\n",
    "                     \"Max_temp_F\" : max_temp, \"Humidity_Percent\" : humidity,\n",
    "                     \"Cloudy_Percent\" : clouds, \"Wind_Speed_mph\" : wind,\n",
    "                      \"Date\" : dates\n",
    "                     })\n",
    "wd_df"
   ]
  },
  {
   "cell_type": "code",
   "execution_count": 48,
   "metadata": {},
   "outputs": [
    {
     "data": {
      "text/plain": [
       "City                 object\n",
       "Country              object\n",
       "Latitude            float64\n",
       "Longitude           float64\n",
       "Max_temp_F          float64\n",
       "Humidity_Percent      int64\n",
       "Cloudy_Percent        int64\n",
       "Wind_Speed_mph      float64\n",
       "Date                  int64\n",
       "dtype: object"
      ]
     },
     "execution_count": 48,
     "metadata": {},
     "output_type": "execute_result"
    }
   ],
   "source": [
    "wd_df.dtypes"
   ]
  },
  {
   "cell_type": "code",
   "execution_count": 49,
   "metadata": {},
   "outputs": [
    {
     "data": {
      "text/html": [
       "<div>\n",
       "<style scoped>\n",
       "    .dataframe tbody tr th:only-of-type {\n",
       "        vertical-align: middle;\n",
       "    }\n",
       "\n",
       "    .dataframe tbody tr th {\n",
       "        vertical-align: top;\n",
       "    }\n",
       "\n",
       "    .dataframe thead th {\n",
       "        text-align: right;\n",
       "    }\n",
       "</style>\n",
       "<table border=\"1\" class=\"dataframe\">\n",
       "  <thead>\n",
       "    <tr style=\"text-align: right;\">\n",
       "      <th></th>\n",
       "      <th>City</th>\n",
       "      <th>Country</th>\n",
       "      <th>Latitude</th>\n",
       "      <th>Longitude</th>\n",
       "      <th>Max_temp_F</th>\n",
       "      <th>Humidity_Percent</th>\n",
       "      <th>Cloudy_Percent</th>\n",
       "      <th>Wind_Speed_mph</th>\n",
       "      <th>Date</th>\n",
       "    </tr>\n",
       "  </thead>\n",
       "  <tbody>\n",
       "    <tr>\n",
       "      <th>0</th>\n",
       "      <td>Sisimiut</td>\n",
       "      <td>Greenland</td>\n",
       "      <td>66.94</td>\n",
       "      <td>-53.67</td>\n",
       "      <td>21.61</td>\n",
       "      <td>84</td>\n",
       "      <td>100</td>\n",
       "      <td>6.31</td>\n",
       "      <td>12/12/20</td>\n",
       "    </tr>\n",
       "    <tr>\n",
       "      <th>1</th>\n",
       "      <td>Makakilo</td>\n",
       "      <td>United States</td>\n",
       "      <td>21.35</td>\n",
       "      <td>-158.09</td>\n",
       "      <td>84.20</td>\n",
       "      <td>48</td>\n",
       "      <td>20</td>\n",
       "      <td>10.29</td>\n",
       "      <td>12/12/20</td>\n",
       "    </tr>\n",
       "    <tr>\n",
       "      <th>2</th>\n",
       "      <td>Banamba</td>\n",
       "      <td>Mali</td>\n",
       "      <td>13.55</td>\n",
       "      <td>-7.45</td>\n",
       "      <td>70.50</td>\n",
       "      <td>23</td>\n",
       "      <td>0</td>\n",
       "      <td>7.85</td>\n",
       "      <td>12/12/20</td>\n",
       "    </tr>\n",
       "    <tr>\n",
       "      <th>3</th>\n",
       "      <td>Almaznyy</td>\n",
       "      <td>Russia</td>\n",
       "      <td>48.04</td>\n",
       "      <td>40.05</td>\n",
       "      <td>32.00</td>\n",
       "      <td>96</td>\n",
       "      <td>75</td>\n",
       "      <td>20.13</td>\n",
       "      <td>12/12/20</td>\n",
       "    </tr>\n",
       "    <tr>\n",
       "      <th>4</th>\n",
       "      <td>Poshekhon'ye</td>\n",
       "      <td>Russia</td>\n",
       "      <td>58.50</td>\n",
       "      <td>39.14</td>\n",
       "      <td>11.50</td>\n",
       "      <td>95</td>\n",
       "      <td>17</td>\n",
       "      <td>5.68</td>\n",
       "      <td>12/12/20</td>\n",
       "    </tr>\n",
       "    <tr>\n",
       "      <th>...</th>\n",
       "      <td>...</td>\n",
       "      <td>...</td>\n",
       "      <td>...</td>\n",
       "      <td>...</td>\n",
       "      <td>...</td>\n",
       "      <td>...</td>\n",
       "      <td>...</td>\n",
       "      <td>...</td>\n",
       "      <td>...</td>\n",
       "    </tr>\n",
       "    <tr>\n",
       "      <th>554</th>\n",
       "      <td>Richards</td>\n",
       "      <td>United States</td>\n",
       "      <td>46.84</td>\n",
       "      <td>-95.91</td>\n",
       "      <td>21.20</td>\n",
       "      <td>85</td>\n",
       "      <td>90</td>\n",
       "      <td>6.93</td>\n",
       "      <td>12/12/20</td>\n",
       "    </tr>\n",
       "    <tr>\n",
       "      <th>555</th>\n",
       "      <td>Clyde</td>\n",
       "      <td>United States</td>\n",
       "      <td>41.30</td>\n",
       "      <td>-82.98</td>\n",
       "      <td>46.99</td>\n",
       "      <td>77</td>\n",
       "      <td>12</td>\n",
       "      <td>1.99</td>\n",
       "      <td>12/12/20</td>\n",
       "    </tr>\n",
       "    <tr>\n",
       "      <th>556</th>\n",
       "      <td>Czersk</td>\n",
       "      <td>Poland</td>\n",
       "      <td>53.80</td>\n",
       "      <td>17.98</td>\n",
       "      <td>34.00</td>\n",
       "      <td>96</td>\n",
       "      <td>100</td>\n",
       "      <td>11.01</td>\n",
       "      <td>12/12/20</td>\n",
       "    </tr>\n",
       "    <tr>\n",
       "      <th>557</th>\n",
       "      <td>Estrela</td>\n",
       "      <td>Brazil</td>\n",
       "      <td>-28.06</td>\n",
       "      <td>-50.94</td>\n",
       "      <td>63.36</td>\n",
       "      <td>94</td>\n",
       "      <td>64</td>\n",
       "      <td>4.88</td>\n",
       "      <td>12/12/20</td>\n",
       "    </tr>\n",
       "    <tr>\n",
       "      <th>558</th>\n",
       "      <td>Coxim</td>\n",
       "      <td>Brazil</td>\n",
       "      <td>-18.51</td>\n",
       "      <td>-54.76</td>\n",
       "      <td>78.12</td>\n",
       "      <td>68</td>\n",
       "      <td>32</td>\n",
       "      <td>6.71</td>\n",
       "      <td>12/12/20</td>\n",
       "    </tr>\n",
       "  </tbody>\n",
       "</table>\n",
       "<p>559 rows × 9 columns</p>\n",
       "</div>"
      ],
      "text/plain": [
       "             City        Country  Latitude  Longitude  Max_temp_F  \\\n",
       "0        Sisimiut      Greenland     66.94     -53.67       21.61   \n",
       "1        Makakilo  United States     21.35    -158.09       84.20   \n",
       "2         Banamba           Mali     13.55      -7.45       70.50   \n",
       "3        Almaznyy         Russia     48.04      40.05       32.00   \n",
       "4    Poshekhon'ye         Russia     58.50      39.14       11.50   \n",
       "..            ...            ...       ...        ...         ...   \n",
       "554      Richards  United States     46.84     -95.91       21.20   \n",
       "555         Clyde  United States     41.30     -82.98       46.99   \n",
       "556        Czersk         Poland     53.80      17.98       34.00   \n",
       "557       Estrela         Brazil    -28.06     -50.94       63.36   \n",
       "558         Coxim         Brazil    -18.51     -54.76       78.12   \n",
       "\n",
       "     Humidity_Percent  Cloudy_Percent  Wind_Speed_mph      Date  \n",
       "0                  84             100            6.31  12/12/20  \n",
       "1                  48              20           10.29  12/12/20  \n",
       "2                  23               0            7.85  12/12/20  \n",
       "3                  96              75           20.13  12/12/20  \n",
       "4                  95              17            5.68  12/12/20  \n",
       "..                ...             ...             ...       ...  \n",
       "554                85              90            6.93  12/12/20  \n",
       "555                77              12            1.99  12/12/20  \n",
       "556                96             100           11.01  12/12/20  \n",
       "557                94              64            4.88  12/12/20  \n",
       "558                68              32            6.71  12/12/20  \n",
       "\n",
       "[559 rows x 9 columns]"
      ]
     },
     "execution_count": 49,
     "metadata": {},
     "output_type": "execute_result"
    }
   ],
   "source": [
    "wd_df['Date'] = pd.to_datetime(wd_df['Date'],unit='s').dt.strftime(\"%m/%d/%y\")\n",
    "\n",
    "wd_df"
   ]
  },
  {
   "cell_type": "code",
   "execution_count": 50,
   "metadata": {},
   "outputs": [
    {
     "data": {
      "text/plain": [
       "City                 object\n",
       "Country              object\n",
       "Latitude            float64\n",
       "Longitude           float64\n",
       "Max_temp_F          float64\n",
       "Humidity_Percent      int64\n",
       "Cloudy_Percent        int64\n",
       "Wind_Speed_mph      float64\n",
       "Date                 object\n",
       "dtype: object"
      ]
     },
     "execution_count": 50,
     "metadata": {},
     "output_type": "execute_result"
    }
   ],
   "source": [
    "wd_df.dtypes"
   ]
  },
  {
   "cell_type": "code",
   "execution_count": 51,
   "metadata": {},
   "outputs": [],
   "source": [
    "#commenting out to keep from changes files that were sent to vacation portion\n",
    "# wd_df.to_csv('../output_data/cities.csv', index=False)"
   ]
  },
  {
   "cell_type": "markdown",
   "metadata": {},
   "source": [
    "## Inspect the data and remove the cities where the humidity > 100%.\n",
    "----\n",
    "Skip this step if there are no cities that have humidity > 100%. "
   ]
  },
  {
   "cell_type": "code",
   "execution_count": 52,
   "metadata": {},
   "outputs": [
    {
     "name": "stdout",
     "output_type": "stream",
     "text": [
      "(559, 10)\n"
     ]
    }
   ],
   "source": [
    "# Humidity check\n",
    "\n",
    "humg100 = (wd_df[\"Humidity_Percent\"] > 100)\n",
    "humg100\n",
    "\n",
    "humg100 = humg100.to_frame('Hum>100%')\n",
    "\n",
    "wdHumg100_df = wd_df.merge(humg100, how = \"outer\", left_index=True, right_index=True)\n",
    "wdHumg100_df[\"Hum>100%\"] = wdHumg100_df[\"Hum>100%\"]*1\n",
    "wdHumg100_df.head()\n",
    "print(wdHumg100_df.shape)"
   ]
  },
  {
   "cell_type": "code",
   "execution_count": 53,
   "metadata": {},
   "outputs": [
    {
     "data": {
      "text/html": [
       "<div>\n",
       "<style scoped>\n",
       "    .dataframe tbody tr th:only-of-type {\n",
       "        vertical-align: middle;\n",
       "    }\n",
       "\n",
       "    .dataframe tbody tr th {\n",
       "        vertical-align: top;\n",
       "    }\n",
       "\n",
       "    .dataframe thead th {\n",
       "        text-align: right;\n",
       "    }\n",
       "</style>\n",
       "<table border=\"1\" class=\"dataframe\">\n",
       "  <thead>\n",
       "    <tr style=\"text-align: right;\">\n",
       "      <th></th>\n",
       "      <th>City</th>\n",
       "      <th>Country</th>\n",
       "      <th>Latitude</th>\n",
       "      <th>Longitude</th>\n",
       "      <th>Max_temp_F</th>\n",
       "      <th>Humidity_Percent</th>\n",
       "      <th>Cloudy_Percent</th>\n",
       "      <th>Wind_Speed_mph</th>\n",
       "      <th>Date</th>\n",
       "      <th>Hum&gt;100%</th>\n",
       "    </tr>\n",
       "  </thead>\n",
       "  <tbody>\n",
       "  </tbody>\n",
       "</table>\n",
       "</div>"
      ],
      "text/plain": [
       "Empty DataFrame\n",
       "Columns: [City, Country, Latitude, Longitude, Max_temp_F, Humidity_Percent, Cloudy_Percent, Wind_Speed_mph, Date, Hum>100%]\n",
       "Index: []"
      ]
     },
     "execution_count": 53,
     "metadata": {},
     "output_type": "execute_result"
    }
   ],
   "source": [
    "#  Get the cities that have humidity over 100%.\n",
    "wdHumg100_df.loc[wdHumg100_df[\"Hum>100%\"] == 1]"
   ]
  },
  {
   "cell_type": "code",
   "execution_count": 54,
   "metadata": {},
   "outputs": [
    {
     "name": "stdout",
     "output_type": "stream",
     "text": [
      "(559, 10)\n"
     ]
    }
   ],
   "source": [
    "# Make a new DataFrame equal to the city data to drop all humidity outliers by index.\n",
    "# Passing \"inplace=False\" will make a copy of the city_data DataFrame, which we call \"clean_city_data\".\n",
    "\n",
    "clean_city_data = wdHumg100_df.drop(wdHumg100_df[wdHumg100_df['Hum>100%'] == 1].index, inplace = False)\n",
    "print(clean_city_data.shape)"
   ]
  },
  {
   "cell_type": "code",
   "execution_count": null,
   "metadata": {},
   "outputs": [],
   "source": [
    "\n"
   ]
  },
  {
   "cell_type": "markdown",
   "metadata": {},
   "source": [
    "## Plotting the Data\n",
    "* Use proper labeling of the plots using plot titles (including date of analysis) and axes labels.\n",
    "* Save the plotted figures as .pngs."
   ]
  },
  {
   "cell_type": "markdown",
   "metadata": {},
   "source": [
    "## Latitude vs. Temperature Plot"
   ]
  },
  {
   "cell_type": "code",
   "execution_count": 61,
   "metadata": {
    "scrolled": true
   },
   "outputs": [
    {
     "data": {
      "image/png": "[encoded data removed]",
      "text/plain": [
       "<Figure size 432x288 with 1 Axes>"
      ]
     },
     "metadata": {
      "needs_background": "light"
     },
     "output_type": "display_data"
    }
   ],
   "source": [
    "clean_city_data.plot.scatter(x = \"Latitude\", y = \"Max_temp_F\", c=\"DarkBlue\")\n",
    "day = wd_df.iloc[0]['Date']\n",
    "\n",
    "plt.xlabel(\"Latitude\")\n",
    "plt.ylabel(\"Max Temperature (F)\")\n",
    "plt.title (f\"City Latitude vs Max Temperature ({day})\")\n",
    "plt.grid()\n",
    "plt.savefig(\"../Images/scatterLvT.png\")"
   ]
  },
  {
   "cell_type": "code",
   "execution_count": 108,
   "metadata": {},
   "outputs": [],
   "source": [
    "# The City Latitude vs Maximum Temperature scatter plot is analyzing the various maximum temperatures against latitude.\n",
    "# The data presented indicates an interesting relationship for the northern and southern hemispheres.\n",
    "# To the left of zero (southern hemisphere), the temperatures a fairly closely distributed from 40 F to 80 F,\n",
    "# increasing as approaching the equator.\n",
    "# To the right of zero (northern hemisphere), the temperatures have a wide range, decreasing as approaching the pole.\n",
    "# These behaviors are most likely presented because of the current season,\n",
    "# late fall, northern hemisphere, and late spring, southern hemisphere. (tilt of the earth and less sunlight)"
   ]
  },
  {
   "cell_type": "markdown",
   "metadata": {},
   "source": [
    "## Latitude vs. Humidity Plot"
   ]
  },
  {
   "cell_type": "code",
   "execution_count": 62,
   "metadata": {},
   "outputs": [
    {
     "data": {
      "image/png": "[encoded data removed]",
      "text/plain": [
       "<Figure size 432x288 with 1 Axes>"
      ]
     },
     "metadata": {
      "needs_background": "light"
     },
     "output_type": "display_data"
    }
   ],
   "source": [
    "clean_city_data.plot.scatter(x = \"Latitude\", y = \"Humidity_Percent\", c=\"DarkBlue\")\n",
    "day = wd_df.iloc[0]['Date']\n",
    "\n",
    "plt.xlabel(\"Latitude\")\n",
    "plt.ylabel(\"Humidity (%)\")\n",
    "plt.title (f\"City Latitude vs Humidity ({day})\")\n",
    "plt.grid()\n",
    "plt.savefig(\"../Images/scatterLvH.png\")"
   ]
  },
  {
   "cell_type": "code",
   "execution_count": 107,
   "metadata": {},
   "outputs": [],
   "source": [
    "# The City Latitude vs Humidity scatter plot is analyzing the various humidity percentage values against latitude.\n",
    "# The data presented indicates a wide distribution of data points, most likely related to current weather conditions\n",
    "# such as a front or recent rain.\n",
    "# To the left of zero (southern hemisphere), the humidity is fairly scattered between latitidue values\n",
    "# with the majority of the points above 60% humidity.\n",
    "# To the right of zero (northern hemisphere), the humidity is fairly scatteres between latitiude values,\n",
    "# with the majority of the points above 60% humidity.  "
   ]
  },
  {
   "cell_type": "markdown",
   "metadata": {},
   "source": [
    "## Latitude vs. Cloudiness Plot"
   ]
  },
  {
   "cell_type": "code",
   "execution_count": 63,
   "metadata": {},
   "outputs": [
    {
     "data": {
      "image/png": "[encoded data removed]",
      "text/plain": [
       "<Figure size 432x288 with 1 Axes>"
      ]
     },
     "metadata": {
      "needs_background": "light"
     },
     "output_type": "display_data"
    }
   ],
   "source": [
    "clean_city_data.plot.scatter(x = \"Latitude\", y = \"Cloudy_Percent\", c=\"DarkBlue\")\n",
    "day = wd_df.iloc[0]['Date']\n",
    "\n",
    "plt.xlabel(\"Latitude\")\n",
    "plt.ylabel(\"Cloudiness (%)\")\n",
    "plt.title (f\"City Latitude vs Cloudiness ({day})\")\n",
    "plt.grid()\n",
    "plt.savefig(\"../Images/scatterLvC.png\")"
   ]
  },
  {
   "cell_type": "code",
   "execution_count": 109,
   "metadata": {},
   "outputs": [],
   "source": [
    "# The City Latitude vs Cloudiness scatter plot is analyzing the various cloudy percentage values against latitude.\n",
    "# The data in this plot is based on the weather conditions present at the snapshot time the data \n",
    "# is collocted.  This is not a very valuable dataset."
   ]
  },
  {
   "cell_type": "markdown",
   "metadata": {},
   "source": [
    "## Latitude vs. Wind Speed Plot"
   ]
  },
  {
   "cell_type": "code",
   "execution_count": 66,
   "metadata": {},
   "outputs": [
    {
     "data": {
      "image/png": "[encoded data removed]",
      "text/plain": [
       "<Figure size 432x288 with 1 Axes>"
      ]
     },
     "metadata": {
      "needs_background": "light"
     },
     "output_type": "display_data"
    }
   ],
   "source": [
    "clean_city_data.plot.scatter(x = \"Latitude\", y = \"Wind_Speed_mph\", c=\"DarkBlue\")\n",
    "day = wd_df.iloc[0]['Date']\n",
    "\n",
    "plt.xlabel(\"Latitude\")\n",
    "plt.ylabel(\"Wind Speed (mph)\")\n",
    "plt.title (f\"City Latitude vs Wind Speed ({day})\")\n",
    "plt.grid()\n",
    "plt.savefig(\"../Images/scatterLvWS.png\")"
   ]
  },
  {
   "cell_type": "code",
   "execution_count": null,
   "metadata": {},
   "outputs": [],
   "source": [
    "# The City Latitude vs Wind Speed scatter plot is analyzing the various wind speed values against latitude.\n",
    "# The data in this plot is based on the weather conditions present at the snapshot time the data \n",
    "# is collocted.  This is not a very valuable dataset."
   ]
  },
  {
   "cell_type": "markdown",
   "metadata": {},
   "source": [
    "## Linear Regression"
   ]
  },
  {
   "cell_type": "code",
   "execution_count": 70,
   "metadata": {},
   "outputs": [
    {
     "name": "stdout",
     "output_type": "stream",
     "text": [
      "(162, 10)\n",
      "(397, 10)\n",
      "(559, 10)\n"
     ]
    }
   ],
   "source": [
    "nhclean_city_data = clean_city_data.loc[clean_city_data['Latitude'] >= 0]\n",
    "shclean_city_data = clean_city_data.loc[clean_city_data['Latitude'] < 0]\n",
    "# shclean_city_data\n",
    "print(shclean_city_data.shape)\n",
    "print(nhclean_city_data.shape)\n",
    "print(clean_city_data.shape)"
   ]
  },
  {
   "cell_type": "markdown",
   "metadata": {},
   "source": [
    "####  Northern Hemisphere - Max Temp vs. Latitude Linear Regression"
   ]
  },
  {
   "cell_type": "code",
   "execution_count": 133,
   "metadata": {},
   "outputs": [
    {
     "data": {
      "image/png": "[encoded data removed]",
      "text/plain": [
       "<Figure size 432x288 with 1 Axes>"
      ]
     },
     "metadata": {
      "needs_background": "light"
     },
     "output_type": "display_data"
    }
   ],
   "source": [
    "x_values = nhclean_city_data['Latitude']\n",
    "y_values = nhclean_city_data['Max_temp_F']\n",
    "day = wd_df.iloc[0]['Date']\n",
    "\n",
    "(slope, intercept, rvalue, pvalue, stderr) = linregress(x_values, y_values)\n",
    "regress_values = x_values * slope + intercept\n",
    "line_eq = \"y = \" + str(round(slope,2)) + \"x + \" + str(round(intercept,2))\n",
    "\n",
    "correlation = st.pearsonr(x_values,y_values)\n",
    "\n",
    "plt.scatter(x_values,y_values)\n",
    "plt.plot(x_values,regress_values,\"r-\")\n",
    "\n",
    "plt.xlabel(\"North Hemisphere Latitude\")\n",
    "plt.ylabel(\"Max Temperature (F)\")\n",
    "plt.title (f\"NH City Latitude vs Max Temperature ({day})\")\n",
    "\n",
    "plt.annotate(line_eq,(5, -10),fontsize=15,color=\"red\")\n",
    "plt.annotate(f\"Correlation coefficient is {round(correlation[0],2)}\",(5,-20),fontsize=10,color=\"red\")\n",
    "\n",
    "plt.grid()\n",
    "\n",
    "plt.savefig(\"../Images/scatternhLvTlr.png\")\n",
    "plt.show()"
   ]
  },
  {
   "cell_type": "code",
   "execution_count": null,
   "metadata": {},
   "outputs": [],
   "source": [
    "# The NH Latitude vs Maximum Temperature scatter plot is analyzing the various maximum temperatures against latitude\n",
    "# in the northern hemisphere.  \n",
    "# As noted above, the temperatures have a wide range, decreasing as approaching the pole.\n",
    "# The linear regression modeling, along with the Pearson's coefficient, indicates\n",
    "# a decent negative relationship (slope down right, -0.83) between the data\n",
    "# as latitude approaches the pole.   "
   ]
  },
  {
   "cell_type": "markdown",
   "metadata": {},
   "source": [
    "####  Southern Hemisphere - Max Temp vs. Latitude Linear Regression"
   ]
  },
  {
   "cell_type": "code",
   "execution_count": 134,
   "metadata": {},
   "outputs": [
    {
     "data": {
      "image/png": "[encoded data removed]",
      "text/plain": [
       "<Figure size 432x288 with 1 Axes>"
      ]
     },
     "metadata": {
      "needs_background": "light"
     },
     "output_type": "display_data"
    }
   ],
   "source": [
    "x_values = shclean_city_data['Latitude']\n",
    "y_values = shclean_city_data['Max_temp_F']\n",
    "day = wd_df.iloc[0]['Date']\n",
    "\n",
    "(slope, intercept, rvalue, pvalue, stderr) = linregress(x_values, y_values)\n",
    "regress_values = x_values * slope + intercept\n",
    "line_eq = \"y = \" + str(round(slope,2)) + \"x + \" + str(round(intercept,2))\n",
    "\n",
    "correlation = st.pearsonr(x_values,y_values)\n",
    "\n",
    "plt.scatter(x_values,y_values)\n",
    "plt.plot(x_values,regress_values,\"r-\")\n",
    "plt.gca().invert_xaxis()\n",
    "\n",
    "plt.xlabel(\"South Hemisphere Latitude\")\n",
    "plt.ylabel(\"Max Temperature (F)\")\n",
    "plt.title (f\"SH City Latitude vs Max Temperature ({day})\")\n",
    "\n",
    "plt.annotate(line_eq,(-10,55),fontsize=15,color=\"red\")\n",
    "plt.annotate(f\"Correlation coefficient is {round(correlation[0],2)}\",(-10,50),fontsize=10,color=\"red\")\n",
    "\n",
    "plt.grid()\n",
    "\n",
    "plt.savefig(\"../Images/scattershLvTlr.png\")\n",
    "plt.show()"
   ]
  },
  {
   "cell_type": "code",
   "execution_count": null,
   "metadata": {},
   "outputs": [],
   "source": [
    "# The SH Latitude vs Maximum Temperature scatter plot is analyzing the various maximum temperatures against latitude\n",
    "# in the southern hemisphere.  The x-axis has been reversed to match the orientation of the overall latitude plot above.   \n",
    "# As noted above, the temperatures have a wide range, decreasing as moving away from the equator.\n",
    "# The linear regression modeling, along with the Pearson's coefficient, indicates\n",
    "# a poor positive relationship (slope down right, 0.46) between the data\n",
    "# as latitude approaches the pole.  \n",
    "# The reason the coefficient is positve and the line is sloping down is because the x-axis has been reveresed."
   ]
  },
  {
   "cell_type": "markdown",
   "metadata": {},
   "source": [
    "####  Northern Hemisphere - Humidity (%) vs. Latitude Linear Regression"
   ]
  },
  {
   "cell_type": "code",
   "execution_count": 141,
   "metadata": {},
   "outputs": [
    {
     "data": {
      "image/png": "[encoded data removed]",
      "text/plain": [
       "<Figure size 432x288 with 1 Axes>"
      ]
     },
     "metadata": {
      "needs_background": "light"
     },
     "output_type": "display_data"
    }
   ],
   "source": [
    "x_values = nhclean_city_data['Latitude']\n",
    "y_values = nhclean_city_data['Humidity_Percent']\n",
    "day = wd_df.iloc[0]['Date']\n",
    "\n",
    "(slope, intercept, rvalue, pvalue, stderr) = linregress(x_values, y_values)\n",
    "regress_values = x_values * slope + intercept\n",
    "line_eq = \"y = \" + str(round(slope,2)) + \"x + \" + str(round(intercept,2))\n",
    "\n",
    "correlation = st.pearsonr(x_values,y_values)\n",
    "\n",
    "plt.scatter(x_values,y_values)\n",
    "plt.plot(x_values,regress_values,\"r-\")\n",
    "\n",
    "plt.xlabel(\"Northern Hemisphere Latitude\")\n",
    "plt.ylabel(\"Humidity (%)\")\n",
    "plt.title (f\"NH City Latitude vs Humidity ({day})\")\n",
    "\n",
    "plt.annotate(line_eq,(35,30),fontsize=15,color=\"red\")\n",
    "plt.annotate(f\"Correlation coefficient is {round(correlation[0],2)}\",(35,22),fontsize=10,color=\"red\")\n",
    "\n",
    "plt.grid()\n",
    "\n",
    "plt.savefig(\"../Images/scatternhLvHlr.png\")\n",
    "plt.show()"
   ]
  },
  {
   "cell_type": "code",
   "execution_count": null,
   "metadata": {},
   "outputs": [],
   "source": [
    "# The NH Latitude vs Humidity scatter plot is analyzing the various humidity percentages against latitude\n",
    "# in the northern hemisphere.  \n",
    "# As noted above, the humidity values have a wide range, increasing as approaching the pole.\n",
    "# The linear regression modeling, along with the Pearson's coefficient, indicates\n",
    "# a poor positive relationship (slope up right, 0.34) between the data\n",
    "# as latitude approaches the pole. "
   ]
  },
  {
   "cell_type": "markdown",
   "metadata": {},
   "source": [
    "####  Southern Hemisphere - Humidity (%) vs. Latitude Linear Regression"
   ]
  },
  {
   "cell_type": "code",
   "execution_count": 136,
   "metadata": {},
   "outputs": [
    {
     "data": {
      "image/png": "[encoded data removed]",
      "text/plain": [
       "<Figure size 432x288 with 1 Axes>"
      ]
     },
     "metadata": {
      "needs_background": "light"
     },
     "output_type": "display_data"
    }
   ],
   "source": [
    "x_values = shclean_city_data['Latitude']\n",
    "y_values = shclean_city_data['Humidity_Percent']\n",
    "day = wd_df.iloc[0]['Date']\n",
    "\n",
    "(slope, intercept, rvalue, pvalue, stderr) = linregress(x_values, y_values)\n",
    "regress_values = x_values * slope + intercept\n",
    "line_eq = \"y = \" + str(round(slope,2)) + \"x + \" + str(round(intercept,2))\n",
    "\n",
    "correlation = st.pearsonr(x_values,y_values)\n",
    "\n",
    "plt.scatter(x_values,y_values)\n",
    "plt.plot(x_values,regress_values,\"r-\")\n",
    "plt.gca().invert_xaxis()\n",
    "\n",
    "plt.xlabel(\"Southern Hemisphere Latitude\")\n",
    "plt.ylabel(\"Humidity (%)\")\n",
    "plt.title (f\"SH City Latitude vs Humidity ({day})\")\n",
    "\n",
    "plt.annotate(line_eq,(-5, 24.5),fontsize=15,color=\"red\")\n",
    "plt.annotate(f\"Correlation coefficient is {round(correlation[0],2)}\",(-5,17.5),fontsize=10,color=\"red\")\n",
    "\n",
    "plt.grid()\n",
    "\n",
    "plt.savefig(\"../Images/scattershLvHlr.png\")\n",
    "plt.show()"
   ]
  },
  {
   "cell_type": "code",
   "execution_count": 143,
   "metadata": {},
   "outputs": [],
   "source": [
    "# The SH Latitude vs Humidity scatter plot is analyzing the various humidity percentages against latitude\n",
    "# in the southern hemisphere.  The x-axis has been reversed to match the orientation of the overall latitude plot above.   \n",
    "# As noted above, the humidity percentages have a wide range, decreasing as moving away from the equator.\n",
    "# The linear regression modeling, along with the Pearson's coefficient, indicates\n",
    "# a poor positive relationship (slope down right, 0.36) between the data\n",
    "# as latitude approaches the pole.  \n",
    "# The reason the coefficient is positve and the line is sloping down is because the x-axis has been reveresed."
   ]
  },
  {
   "cell_type": "markdown",
   "metadata": {},
   "source": [
    "####  Northern Hemisphere - Cloudiness (%) vs. Latitude Linear Regression"
   ]
  },
  {
   "cell_type": "code",
   "execution_count": 138,
   "metadata": {},
   "outputs": [
    {
     "data": {
      "image/png": "[encoded data removed]",
      "text/plain": [
       "<Figure size 432x288 with 1 Axes>"
      ]
     },
     "metadata": {
      "needs_background": "light"
     },
     "output_type": "display_data"
    }
   ],
   "source": [
    "x_values = nhclean_city_data['Latitude']\n",
    "y_values = nhclean_city_data['Cloudy_Percent']\n",
    "day = wd_df.iloc[0]['Date']\n",
    "\n",
    "(slope, intercept, rvalue, pvalue, stderr) = linregress(x_values, y_values)\n",
    "regress_values = x_values * slope + intercept\n",
    "line_eq = \"y = \" + str(round(slope,2)) + \"x + \" + str(round(intercept,2))\n",
    "\n",
    "correlation = st.pearsonr(x_values,y_values)\n",
    "\n",
    "plt.scatter(x_values,y_values)\n",
    "plt.plot(x_values,regress_values,\"r-\")\n",
    "\n",
    "plt.xlabel(\"Northern Hemisphere Latitude\")\n",
    "plt.ylabel(\"Cloudiness (%)\")\n",
    "plt.title (f\"NH City Latitude vs Cloudiness ({day})\")\n",
    "\n",
    "plt.annotate(line_eq,(24, 43),fontsize=15,color=\"red\")\n",
    "plt.annotate(f\"Correlation coefficient is {round(correlation[0],2)}\",(24,28),fontsize=10,color=\"red\")\n",
    "\n",
    "plt.grid()\n",
    "\n",
    "plt.savefig(\"../Images/scatternhLvClr.png\")\n",
    "plt.show()"
   ]
  },
  {
   "cell_type": "code",
   "execution_count": null,
   "metadata": {},
   "outputs": [],
   "source": [
    "# The NH Latitude vs Cloudiness scatter plot is analyzing the various cloudiness percentages against latitude\n",
    "# in the northern hemisphere.  \n",
    "# The linear regression modeling, along with the Pearson's coefficient, indicates\n",
    "# a poor positive relationship (slope up right, 0.27) between the data\n",
    "# as latitude approaches the pole. \n",
    "# The data in this plot is based on the weather conditions present at the snapshot time the data \n",
    "# is collocted.  This is not a very valuable dataset."
   ]
  },
  {
   "cell_type": "markdown",
   "metadata": {},
   "source": [
    "####  Southern Hemisphere - Cloudiness (%) vs. Latitude Linear Regression"
   ]
  },
  {
   "cell_type": "code",
   "execution_count": 142,
   "metadata": {},
   "outputs": [
    {
     "data": {
      "image/png": "[encoded data removed]",
      "text/plain": [
       "<Figure size 432x288 with 1 Axes>"
      ]
     },
     "metadata": {
      "needs_background": "light"
     },
     "output_type": "display_data"
    }
   ],
   "source": [
    "x_values = shclean_city_data['Latitude']\n",
    "y_values = shclean_city_data['Cloudy_Percent']\n",
    "day = wd_df.iloc[0]['Date']\n",
    "\n",
    "(slope, intercept, rvalue, pvalue, stderr) = linregress(x_values, y_values)\n",
    "regress_values = x_values * slope + intercept\n",
    "line_eq = \"y = \" + str(round(slope,2)) + \"x + \" + str(round(intercept,2))\n",
    "\n",
    "correlation = st.pearsonr(x_values,y_values)\n",
    "\n",
    "plt.scatter(x_values,y_values)\n",
    "plt.plot(x_values,regress_values,\"r-\")\n",
    "plt.gca().invert_xaxis()\n",
    "\n",
    "plt.xlabel(\"Southern Hemisphere Latitude\")\n",
    "plt.ylabel(\"Cloudiness (%)\")\n",
    "plt.title (f\"SH City Latitude vs Cloudiness ({day})\")\n",
    "\n",
    "plt.annotate(line_eq,(-18, 42),fontsize=15,color=\"red\")\n",
    "plt.annotate(f\"Correlation coefficient is {round(correlation[0],2)}\",(-18,30),fontsize=10,color=\"red\")\n",
    "\n",
    "plt.grid()\n",
    "\n",
    "plt.savefig(\"../Images/scattershLvClr.png\")\n",
    "plt.show()"
   ]
  },
  {
   "cell_type": "code",
   "execution_count": null,
   "metadata": {},
   "outputs": [],
   "source": [
    "# The SH Latitude vs Cloudiness scatter plot is analyzing the various cloudiness percentages against latitude\n",
    "# in the southern hemisphere.  \n",
    "# The linear regression modeling, along with the Pearson's coefficient, indicates\n",
    "# a poor positive relationship (slope down right, 0.06) between the data\n",
    "# as latitude approaches the pole.  \n",
    "# The data in this plot is based on the weather conditions present at the snapshot time the data \n",
    "# is collocted.  This is not a very valuable dataset.\n",
    "# The reason the coefficient is positve and the line is sloping down is because the x-axis has been reveresed."
   ]
  },
  {
   "cell_type": "markdown",
   "metadata": {},
   "source": [
    "####  Northern Hemisphere - Wind Speed (mph) vs. Latitude Linear Regression"
   ]
  },
  {
   "cell_type": "code",
   "execution_count": 140,
   "metadata": {},
   "outputs": [
    {
     "data": {
      "image/png": "[encoded data removed]",
      "text/plain": [
       "<Figure size 432x288 with 1 Axes>"
      ]
     },
     "metadata": {
      "needs_background": "light"
     },
     "output_type": "display_data"
    }
   ],
   "source": [
    "x_values = nhclean_city_data['Latitude']\n",
    "y_values = nhclean_city_data['Wind_Speed_mph']\n",
    "day = wd_df.iloc[0]['Date']\n",
    "\n",
    "(slope, intercept, rvalue, pvalue, stderr) = linregress(x_values, y_values)\n",
    "regress_values = x_values * slope + intercept\n",
    "line_eq = \"y = \" + str(round(slope,2)) + \"x + \" + str(round(intercept,2))\n",
    "\n",
    "correlation = st.pearsonr(x_values,y_values)\n",
    "\n",
    "plt.scatter(x_values,y_values)\n",
    "plt.plot(x_values,regress_values,\"r-\")\n",
    "\n",
    "\n",
    "plt.xlabel(\"Northern Hemisphere Latitude\")\n",
    "plt.ylabel(\"Wind Speed (mph)\")\n",
    "plt.title (f\"NH City Latitude vs Wind Speed ({day})\")\n",
    "\n",
    "plt.annotate(line_eq,(5, 37),fontsize=15,color=\"red\")\n",
    "plt.annotate(f\"Correlation coefficient is {round(correlation[0],2)}\",(5,34),fontsize=10,color=\"red\")\n",
    "\n",
    "plt.grid()\n",
    "\n",
    "plt.savefig(\"../Images/scatternhLvWSlr.png\")\n",
    "plt.show()"
   ]
  },
  {
   "cell_type": "code",
   "execution_count": null,
   "metadata": {},
   "outputs": [],
   "source": [
    "# The NH Latitude vs Wind Speed scatter plot is analyzing the various wind speeds against latitude\n",
    "# in the northern hemisphere.  \n",
    "# The linear regression modeling, along with the Pearson's coefficient, indicates\n",
    "# a poor positive relationship (slope up right, 0.17) between the data\n",
    "# as latitude approaches the pole. \n",
    "# The data in this plot is based on the weather conditions present at the snapshot time the data \n",
    "# is collocted.  This is not a very valuable dataset."
   ]
  },
  {
   "cell_type": "markdown",
   "metadata": {},
   "source": [
    "####  Southern Hemisphere - Wind Speed (mph) vs. Latitude Linear Regression"
   ]
  },
  {
   "cell_type": "code",
   "execution_count": 129,
   "metadata": {},
   "outputs": [
    {
     "data": {
      "image/png": "[encoded data removed]",
      "text/plain": [
       "<Figure size 432x288 with 1 Axes>"
      ]
     },
     "metadata": {
      "needs_background": "light"
     },
     "output_type": "display_data"
    }
   ],
   "source": [
    "x_values = shclean_city_data['Latitude']\n",
    "y_values = shclean_city_data['Wind_Speed_mph']\n",
    "day = wd_df.iloc[0]['Date']\n",
    "\n",
    "(slope, intercept, rvalue, pvalue, stderr) = linregress(x_values, y_values)\n",
    "regress_values = x_values * slope + intercept\n",
    "line_eq = \"y = \" + str(round(slope,2)) + \"x + \" + str(round(intercept,2))\n",
    "\n",
    "correlation = st.pearsonr(x_values,y_values)\n",
    "\n",
    "plt.scatter(x_values,y_values)\n",
    "plt.plot(x_values,regress_values,\"r-\")\n",
    "plt.gca().invert_xaxis()\n",
    "\n",
    "plt.xlabel(\"Southern Hemisphere Latitude\")\n",
    "plt.ylabel(\"Wind Speed (mph)\")\n",
    "plt.title (f\"City Latitude vs Wind Speed ({day})\")\n",
    "\n",
    "plt.annotate(line_eq,(-12,31),fontsize=15,color=\"red\")\n",
    "plt.annotate(f\"Correlation coefficient is {round(correlation[0],2)}\",(-12,28),fontsize=10,color=\"red\")\n",
    "\n",
    "plt.grid()\n",
    "\n",
    "plt.savefig(\"../Images/scattershLvWSlr.png\")\n",
    "plt.show()"
   ]
  },
  {
   "cell_type": "code",
   "execution_count": null,
   "metadata": {},
   "outputs": [],
   "source": [
    "# The SH Latitude vs Wind Speed scatter plot is analyzing the various wind speeds against latitude\n",
    "# in the southern hemisphere.    \n",
    "# The linear regression modeling, along with the Pearson's coefficient, indicates\n",
    "# a poor positive relationship (slope up right, -0.34) between the data\n",
    "# as latitude approaches the pole.  \n",
    "# The data in this plot is based on the weather conditions present at the snapshot time the data \n",
    "# is collocted.  This is not a very valuable dataset.\n",
    "# The reason the coefficient is negative and line is sloping up is because the x-axis has been reveresed."
   ]
  }
 ],
 "metadata": {
  "anaconda-cloud": {},
  "kernel_info": {
   "name": "python3"
  },
  "kernelspec": {
   "display_name": "Python 3",
   "language": "python",
   "name": "python3"
  },
  "language_info": {
   "codemirror_mode": {
    "name": "ipython",
    "version": 3
   },
   "file_extension": ".py",
   "mimetype": "text/x-python",
   "name": "python",
   "nbconvert_exporter": "python",
   "pygments_lexer": "ipython3",
   "version": "3.8.3"
  },
  "latex_envs": {
   "LaTeX_envs_menu_present": true,
   "autoclose": false,
   "autocomplete": true,
   "bibliofile": "biblio.bib",
   "cite_by": "apalike",
   "current_citInitial": 1,
   "eqLabelWithNumbers": true,
   "eqNumInitial": 1,
   "hotkeys": {
    "equation": "Ctrl-E",
    "itemize": "Ctrl-I"
   },
   "labels_anchors": false,
   "latex_user_defs": false,
   "report_style_numbering": false,
   "user_envs_cfg": false
  },
  "nteract": {
   "version": "0.12.3"
  }
 },
 "nbformat": 4,
 "nbformat_minor": 2
}
