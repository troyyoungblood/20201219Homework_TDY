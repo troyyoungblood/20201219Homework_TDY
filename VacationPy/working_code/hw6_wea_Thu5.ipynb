{
 "cells": [
  {
   "cell_type": "markdown",
   "metadata": {},
   "source": [
    "# WeatherPy\n",
    "----\n",
    "\n",
    "#### Note\n",
    "* Instructions have been included for each segment. You do not have to follow them exactly, but they are included to help you think through the steps."
   ]
  },
  {
   "cell_type": "code",
   "execution_count": 30,
   "metadata": {
    "scrolled": true
   },
   "outputs": [],
   "source": [
    "# Dependencies and Setup\n",
    "import matplotlib.pyplot as plt\n",
    "import pandas as pd\n",
    "import numpy as np\n",
    "import requests\n",
    "import time\n",
    "from scipy.stats import linregress\n",
    "import country_converter as coco\n",
    "\n",
    "# Import API key\n",
    "from api_keys import weather_api_key\n",
    "\n",
    "# Incorporated citipy to determine city based on latitude and longitude\n",
    "from citipy import citipy\n",
    "\n",
    "# Output File (CSV)\n",
    "output_data_file = \"output_data/cities.csv\"\n",
    "\n",
    "# Range of latitudes and longitudes\n",
    "# api.openweathermap.org/data/2.5/box/city?bbox={bbox}&appid={API key}\n",
    "# bbox required Bounding box [lon-left,lat-bottom,lon-right,lat-top,zoom]\n",
    "lat_range = (-90, 90)\n",
    "lng_range = (-180, 180)"
   ]
  },
  {
   "cell_type": "markdown",
   "metadata": {},
   "source": [
    "## Generate Cities List"
   ]
  },
  {
   "cell_type": "code",
   "execution_count": 31,
   "metadata": {},
   "outputs": [
    {
     "data": {
      "text/plain": [
       "621"
      ]
     },
     "execution_count": 31,
     "metadata": {},
     "output_type": "execute_result"
    }
   ],
   "source": [
    "# List for holding lat_lngs and cities\n",
    "lat_lngs = []\n",
    "cities = []\n",
    "\n",
    "# Create a set of random lat and lng combinations\n",
    "lats = np.random.uniform(lat_range[0], lat_range[1], size=1500)\n",
    "lngs = np.random.uniform(lng_range[0], lng_range[1], size=1500)\n",
    "lat_lngs = zip(lats, lngs)\n",
    "\n",
    "# Identify nearest city for each lat, lng combination\n",
    "for lat_lng in lat_lngs:\n",
    "    city = citipy.nearest_city(lat_lng[0], lat_lng[1]).city_name\n",
    "    \n",
    "    # If the city is unique, then add it to a our cities list\n",
    "    if city not in cities:\n",
    "        cities.append(city)\n",
    "\n",
    "# Print the city count to confirm sufficient count\n",
    "# minimum 500 cities\n",
    "len(cities)\n",
    "\n",
    "#Cities is a list\n",
    "# cities"
   ]
  },
  {
   "cell_type": "markdown",
   "metadata": {},
   "source": [
    "### Perform API Calls\n",
    "* Perform a weather check on each city using a series of successive API calls.\n",
    "* Include a print log of each city as it'sbeing processed (with the city number and city name).\n"
   ]
  },
  {
   "cell_type": "code",
   "execution_count": 32,
   "metadata": {},
   "outputs": [
    {
     "name": "stdout",
     "output_type": "stream",
     "text": [
      "Counter : 1, City : jamestown\n",
      "Counter : 2, City : kapaa\n",
      "Counter : 3, City : fortuna\n",
      "Counter : 4, City : castro\n",
      "weather data not available\n",
      "weather data not available\n",
      "weather data not available\n",
      "Counter : 5, City : san cristobal\n",
      "Counter : 6, City : raahe\n",
      "weather data not available\n",
      "Counter : 7, City : nemuro\n",
      "Counter : 8, City : kabanjahe\n",
      "Counter : 9, City : nome\n",
      "Counter : 10, City : butaritari\n",
      "Counter : 11, City : leningradskiy\n",
      "Counter : 12, City : rikitea\n",
      "Counter : 13, City : chauk\n",
      "Counter : 14, City : khatanga\n",
      "Counter : 15, City : hami\n",
      "weather data not available\n",
      "Counter : 16, City : samarai\n",
      "Counter : 17, City : bethel\n",
      "Counter : 18, City : hambantota\n",
      "Counter : 19, City : mataura\n",
      "Counter : 20, City : cayenne\n",
      "Counter : 21, City : waiouru\n",
      "Counter : 22, City : kaitangata\n",
      "Counter : 23, City : hermanus\n",
      "Counter : 24, City : hithadhoo\n",
      "Counter : 25, City : cabo san lucas\n",
      "weather data not available\n",
      "Counter : 26, City : sitka\n",
      "Counter : 27, City : coquimbo\n",
      "Counter : 28, City : namibe\n",
      "Counter : 29, City : tual\n",
      "Counter : 30, City : barrow\n",
      "Counter : 31, City : saskylakh\n",
      "Counter : 32, City : las varas\n",
      "Counter : 33, City : roald\n",
      "Counter : 34, City : komsomolskiy\n",
      "Counter : 35, City : tuatapere\n",
      "Counter : 36, City : bluff\n",
      "Counter : 37, City : airai\n",
      "Counter : 38, City : kawalu\n",
      "Counter : 39, City : carnarvon\n",
      "Counter : 40, City : safaga\n",
      "Counter : 41, City : eyl\n",
      "Counter : 42, City : tasiilaq\n",
      "Counter : 43, City : bathsheba\n",
      "Counter : 44, City : yellowknife\n",
      "Counter : 45, City : weiser\n",
      "Counter : 46, City : yar-sale\n",
      "Counter : 47, City : mukhen\n",
      "Counter : 48, City : hilo\n",
      "Counter : 49, City : punta arenas\n",
      "Counter : 50, City : vaini\n",
      "Counter : 51, City : puerto ayora\n",
      "Counter : 52, City : lebu\n",
      "Counter : 53, City : quelimane\n",
      "Counter : 54, City : batticaloa\n",
      "Counter : 55, City : qaanaaq\n",
      "Counter : 56, City : arraial do cabo\n",
      "Counter : 57, City : kuytun\n",
      "Counter : 58, City : norman wells\n",
      "Counter : 59, City : aklavik\n",
      "weather data not available\n",
      "Counter : 60, City : stromness\n",
      "Counter : 61, City : ushuaia\n",
      "weather data not available\n",
      "Counter : 62, City : eenhana\n",
      "Counter : 63, City : colombo\n",
      "Counter : 64, City : alakurtti\n",
      "Counter : 65, City : kodiak\n",
      "Counter : 66, City : adre\n",
      "Counter : 67, City : ponta do sol\n",
      "Counter : 68, City : busselton\n",
      "Counter : 69, City : nikolskoye\n",
      "Counter : 70, City : hobart\n",
      "weather data not available\n",
      "weather data not available\n",
      "Counter : 71, City : cervo\n",
      "Counter : 72, City : zapolyarnyy\n",
      "Counter : 73, City : new norfolk\n",
      "Counter : 74, City : presidente olegario\n",
      "Counter : 75, City : longyearbyen\n",
      "Counter : 76, City : bereda\n",
      "weather data not available\n",
      "Counter : 77, City : kouroussa\n",
      "Counter : 78, City : muskogee\n",
      "Counter : 79, City : saint-francois\n",
      "Counter : 80, City : okha\n",
      "Counter : 81, City : victoria\n",
      "weather data not available\n",
      "Counter : 82, City : klamath falls\n",
      "Counter : 83, City : sepuka\n",
      "weather data not available\n",
      "Counter : 84, City : albany\n",
      "Counter : 85, City : shimoda\n",
      "Counter : 86, City : college\n",
      "weather data not available\n",
      "Counter : 87, City : katsuura\n",
      "Counter : 88, City : arlit\n",
      "Counter : 89, City : thompson\n",
      "Counter : 90, City : shakawe\n",
      "weather data not available\n",
      "Counter : 91, City : klaksvik\n",
      "Counter : 92, City : faanui\n",
      "Counter : 93, City : grafton\n",
      "Counter : 94, City : chenzhou\n",
      "Counter : 95, City : dalvik\n",
      "Counter : 96, City : kahului\n",
      "Counter : 97, City : puerto escondido\n",
      "Counter : 98, City : sao jose da coroa grande\n",
      "Counter : 99, City : hushitai\n",
      "Counter : 100, City : cape town\n",
      "Counter : 101, City : pacific grove\n",
      "Counter : 102, City : matiari\n",
      "Counter : 103, City : georgetown\n",
      "Counter : 104, City : cherskiy\n",
      "Counter : 105, City : narsaq\n",
      "Counter : 106, City : esperance\n",
      "Counter : 107, City : tanout\n",
      "Counter : 108, City : constitucion\n",
      "Counter : 109, City : mys shmidta\n",
      "Counter : 110, City : mayo\n",
      "Counter : 111, City : saldanha\n",
      "Counter : 112, City : danane\n",
      "Counter : 113, City : necochea\n",
      "Counter : 114, City : bredasdorp\n",
      "Counter : 115, City : vestmanna\n",
      "Counter : 116, City : biu\n",
      "Counter : 117, City : sioux lookout\n",
      "Counter : 118, City : praia\n",
      "Counter : 119, City : nanortalik\n",
      "weather data not available\n",
      "weather data not available\n",
      "weather data not available\n",
      "Counter : 120, City : husavik\n",
      "Counter : 121, City : wakkanai\n",
      "Counter : 122, City : lata\n",
      "Counter : 123, City : lisakovsk\n",
      "Counter : 124, City : upernavik\n",
      "Counter : 125, City : doka\n",
      "Counter : 126, City : chokurdakh\n",
      "weather data not available\n",
      "Counter : 127, City : mayumba\n",
      "Counter : 128, City : sambava\n",
      "Counter : 129, City : winnemucca\n",
      "Counter : 130, City : xuddur\n",
      "weather data not available\n",
      "Counter : 131, City : olafsvik\n",
      "weather data not available\n",
      "Counter : 132, City : camana\n",
      "Counter : 133, City : bengkulu\n",
      "Counter : 134, City : jerez\n",
      "Counter : 135, City : aykhal\n",
      "Counter : 136, City : port hardy\n",
      "Counter : 137, City : cockburn town\n",
      "Counter : 138, City : rawson\n",
      "Counter : 139, City : port alfred\n",
      "Counter : 140, City : krasnoselkup\n",
      "weather data not available\n",
      "Counter : 141, City : bireun\n",
      "Counter : 142, City : ulaangom\n",
      "Counter : 143, City : liverpool\n",
      "Counter : 144, City : urumqi\n",
      "weather data not available\n",
      "Counter : 145, City : salalah\n",
      "Counter : 146, City : dikson\n",
      "Counter : 147, City : cidreira\n",
      "Counter : 148, City : laguna\n",
      "Counter : 149, City : ilulissat\n",
      "Counter : 150, City : comodoro rivadavia\n",
      "Counter : 151, City : ribeira grande\n",
      "weather data not available\n",
      "Counter : 152, City : atar\n",
      "Counter : 153, City : kutum\n",
      "Counter : 154, City : takoradi\n",
      "Counter : 155, City : vagay\n",
      "Counter : 156, City : lake havasu city\n",
      "Counter : 157, City : tuktoyaktuk\n",
      "Counter : 158, City : kavieng\n",
      "Counter : 159, City : suntar\n",
      "Counter : 160, City : tatawin\n",
      "Counter : 161, City : goderich\n",
      "Counter : 162, City : caibarien\n",
      "weather data not available\n",
      "Counter : 163, City : xinzhou\n",
      "weather data not available\n",
      "Counter : 164, City : sao borja\n",
      "Counter : 165, City : herat\n",
      "Counter : 166, City : madingou\n",
      "Counter : 167, City : vanimo\n",
      "Counter : 168, City : westport\n",
      "Counter : 169, City : shiyan\n",
      "Counter : 170, City : jumla\n",
      "Counter : 171, City : kaeo\n",
      "Counter : 172, City : nueva loja\n",
      "Counter : 173, City : ilhabela\n",
      "Counter : 174, City : hofn\n",
      "Counter : 175, City : khryashchevka\n",
      "Counter : 176, City : labrea\n",
      "Counter : 177, City : alofi\n",
      "Counter : 178, City : baghdad\n",
      "Counter : 179, City : port elizabeth\n",
      "Counter : 180, City : homer\n",
      "Counter : 181, City : murwillumbah\n",
      "Counter : 182, City : cabra\n",
      "Counter : 183, City : mananjary\n",
      "Counter : 184, City : plettenberg bay\n",
      "weather data not available\n",
      "Counter : 185, City : upington\n",
      "Counter : 186, City : avarua\n",
      "Counter : 187, City : kanel\n",
      "Counter : 188, City : san patricio\n",
      "Counter : 189, City : hasaki\n",
      "Counter : 190, City : lasa\n",
      "Counter : 191, City : brae\n",
      "Counter : 192, City : tessalit\n",
      "Counter : 193, City : shangrao\n",
      "Counter : 194, City : chuy\n",
      "Counter : 195, City : saint-philippe\n",
      "Counter : 196, City : muisne\n",
      "weather data not available\n",
      "Counter : 197, City : belgrade\n",
      "Counter : 198, City : woodward\n",
      "Counter : 199, City : patnagarh\n",
      "Counter : 200, City : koumac\n",
      "Counter : 201, City : portsoy\n",
      "Counter : 202, City : clyde river\n",
      "Counter : 203, City : bambous virieux\n",
      "Counter : 204, City : mtwara\n",
      "Counter : 205, City : tommot\n",
      "Counter : 206, City : luwuk\n",
      "Counter : 207, City : provideniya\n",
      "Counter : 208, City : grand river south east\n",
      "Counter : 209, City : honningsvag\n",
      "Counter : 210, City : marawi\n",
      "weather data not available\n",
      "Counter : 211, City : malanje\n",
      "Counter : 212, City : verkhovazhye\n",
      "weather data not available\n",
      "Counter : 213, City : qaqortoq\n",
      "Counter : 214, City : santa cruz\n",
      "Counter : 215, City : maracaju\n",
      "Counter : 216, City : kazerun\n",
      "Counter : 217, City : atuona\n",
      "Counter : 218, City : nyaregyhaza\n",
      "Counter : 219, City : seydi\n",
      "Counter : 220, City : bandarbeyla\n",
      "Counter : 221, City : churapcha\n",
      "Counter : 222, City : san quintin\n",
      "Counter : 223, City : naze\n",
      "Counter : 224, City : severo-kurilsk\n",
      "Counter : 225, City : takhtamygda\n",
      "Counter : 226, City : iqaluit\n",
      "Counter : 227, City : banhigan\n",
      "Counter : 228, City : tiksi\n",
      "Counter : 229, City : whitecourt\n",
      "Counter : 230, City : jalor\n",
      "Counter : 231, City : inuvik\n",
      "Counter : 232, City : pyapon\n",
      "Counter : 233, City : waw\n",
      "Counter : 234, City : canala\n",
      "Counter : 235, City : pochutla\n",
      "Counter : 236, City : floro\n",
      "weather data not available\n",
      "Counter : 237, City : vila franca do campo\n",
      "Counter : 238, City : jacqueville\n",
      "Counter : 239, City : whitehorse\n",
      "Counter : 240, City : strelka\n",
      "Counter : 241, City : kruisfontein\n"
     ]
    },
    {
     "name": "stdout",
     "output_type": "stream",
     "text": [
      "Counter : 242, City : yambio\n",
      "Counter : 243, City : alyangula\n",
      "Counter : 244, City : asyut\n",
      "Counter : 245, City : zambezi\n",
      "Counter : 246, City : mabaruma\n",
      "Counter : 247, City : saint-georges\n",
      "Counter : 248, City : vestmannaeyjar\n",
      "Counter : 249, City : souillac\n",
      "Counter : 250, City : volkhov\n",
      "Counter : 251, City : oak harbor\n",
      "Counter : 252, City : baykit\n",
      "Counter : 253, City : litovko\n",
      "Counter : 254, City : kununurra\n",
      "Counter : 255, City : caconda\n",
      "Counter : 256, City : beringovskiy\n",
      "Counter : 257, City : george\n",
      "Counter : 258, City : rezekne\n",
      "Counter : 259, City : jalu\n",
      "Counter : 260, City : pevek\n",
      "Counter : 261, City : lompoc\n",
      "Counter : 262, City : kachug\n",
      "Counter : 263, City : acquaviva\n",
      "Counter : 264, City : evensk\n",
      "Counter : 265, City : port macquarie\n",
      "Counter : 266, City : ostrovnoy\n",
      "Counter : 267, City : araouane\n",
      "Counter : 268, City : sandwick\n",
      "Counter : 269, City : bud\n",
      "Counter : 270, City : stavrovo\n",
      "Counter : 271, City : sarab\n",
      "Counter : 272, City : amuntai\n",
      "weather data not available\n",
      "Counter : 273, City : aguimes\n",
      "weather data not available\n",
      "Counter : 274, City : sultepec\n",
      "weather data not available\n",
      "weather data not available\n",
      "Counter : 275, City : wiarton\n",
      "Counter : 276, City : brunsbuttel\n",
      "Counter : 277, City : faya\n",
      "Counter : 278, City : gambela\n",
      "Counter : 279, City : saint-augustin\n",
      "Counter : 280, City : selikhino\n",
      "Counter : 281, City : zilair\n",
      "Counter : 282, City : mahebourg\n",
      "Counter : 283, City : sao filipe\n",
      "Counter : 284, City : ayan\n",
      "Counter : 285, City : biak\n",
      "weather data not available\n",
      "weather data not available\n",
      "Counter : 286, City : beloha\n",
      "Counter : 287, City : kyaukse\n",
      "Counter : 288, City : daru\n",
      "Counter : 289, City : solnechnyy\n",
      "Counter : 290, City : teruel\n",
      "Counter : 291, City : botwood\n",
      "Counter : 292, City : xichang\n",
      "Counter : 293, City : areia branca\n",
      "Counter : 294, City : brigantine\n",
      "Counter : 295, City : kualakapuas\n",
      "Counter : 296, City : poum\n",
      "Counter : 297, City : huarmey\n",
      "Counter : 298, City : tsumeb\n",
      "Counter : 299, City : taoudenni\n",
      "weather data not available\n",
      "Counter : 300, City : kodinar\n",
      "Counter : 301, City : alta floresta\n",
      "Counter : 302, City : goure\n",
      "Counter : 303, City : calabar\n",
      "Counter : 304, City : tukums\n",
      "Counter : 305, City : gat\n",
      "weather data not available\n",
      "Counter : 306, City : portland\n",
      "Counter : 307, City : chertkovo\n",
      "Counter : 308, City : acapulco\n",
      "Counter : 309, City : mount gambier\n",
      "Counter : 310, City : erenhot\n",
      "Counter : 311, City : karasjok\n",
      "Counter : 312, City : mombetsu\n",
      "Counter : 313, City : ust-tsilma\n",
      "Counter : 314, City : ayame\n",
      "Counter : 315, City : cuamba\n",
      "Counter : 316, City : nacala\n",
      "Counter : 317, City : zima\n",
      "Counter : 318, City : talnakh\n",
      "Counter : 319, City : dongsheng\n",
      "Counter : 320, City : okhotsk\n",
      "Counter : 321, City : nandigama\n",
      "Counter : 322, City : patnanungan\n",
      "Counter : 323, City : ludvika\n",
      "Counter : 324, City : auki\n",
      "Counter : 325, City : chagoda\n",
      "Counter : 326, City : srednekolymsk\n",
      "Counter : 327, City : dingle\n",
      "Counter : 328, City : morondava\n",
      "Counter : 329, City : tsabong\n",
      "weather data not available\n",
      "Counter : 330, City : bethanien\n",
      "weather data not available\n",
      "Counter : 331, City : myitkyina\n",
      "Counter : 332, City : uhlove\n",
      "Counter : 333, City : norsup\n",
      "Counter : 334, City : usvyaty\n",
      "Counter : 335, City : vila velha\n",
      "Counter : 336, City : oyem\n",
      "Counter : 337, City : ixtapa\n",
      "Counter : 338, City : mingshui\n",
      "Counter : 339, City : tautira\n",
      "Counter : 340, City : northam\n",
      "Counter : 341, City : isangel\n",
      "Counter : 342, City : gonen\n",
      "Counter : 343, City : kinsale\n",
      "Counter : 344, City : sampit\n",
      "Counter : 345, City : puerto madryn\n",
      "Counter : 346, City : winnetka\n",
      "Counter : 347, City : butterworth\n",
      "Counter : 348, City : luanda\n",
      "Counter : 349, City : trojes\n",
      "Counter : 350, City : belyy yar\n",
      "Counter : 351, City : kharagauli\n",
      "Counter : 352, City : seoul\n",
      "Counter : 353, City : lobatse\n",
      "Counter : 354, City : lakatoro\n",
      "Counter : 355, City : muros\n",
      "Counter : 356, City : kodinsk\n",
      "Counter : 357, City : lima\n",
      "Counter : 358, City : myre\n",
      "Counter : 359, City : gornopravdinsk\n",
      "weather data not available\n",
      "Counter : 360, City : coihaique\n",
      "Counter : 361, City : malampaka\n",
      "Counter : 362, City : songea\n",
      "Counter : 363, City : khorixas\n",
      "Counter : 364, City : mondlo\n",
      "Counter : 365, City : grindavik\n",
      "Counter : 366, City : disna\n",
      "Counter : 367, City : sechura\n",
      "Counter : 368, City : hobyo\n",
      "Counter : 369, City : camalu\n",
      "Counter : 370, City : sao joao da barra\n",
      "Counter : 371, City : lavrentiya\n",
      "Counter : 372, City : las vegas\n",
      "Counter : 373, City : maragogi\n",
      "weather data not available\n",
      "Counter : 374, City : serenje\n",
      "Counter : 375, City : oistins\n",
      "Counter : 376, City : san matias\n",
      "Counter : 377, City : lumberton\n",
      "Counter : 378, City : dubai\n",
      "Counter : 379, City : iquique\n",
      "Counter : 380, City : tura\n",
      "Counter : 381, City : petropavlovsk-kamchatskiy\n",
      "Counter : 382, City : lazaro cardenas\n",
      "Counter : 383, City : wanning\n",
      "Counter : 384, City : cabedelo\n",
      "weather data not available\n",
      "weather data not available\n",
      "Counter : 385, City : mar del plata\n",
      "Counter : 386, City : constantine\n",
      "weather data not available\n",
      "Counter : 387, City : rocha\n",
      "Counter : 388, City : lodja\n",
      "Counter : 389, City : casay\n",
      "Counter : 390, City : luderitz\n",
      "Counter : 391, City : torbay\n",
      "Counter : 392, City : murray bridge\n",
      "Counter : 393, City : vao\n",
      "Counter : 394, City : hailar\n",
      "Counter : 395, City : manakara\n",
      "Counter : 396, City : east london\n",
      "Counter : 397, City : nynashamn\n",
      "Counter : 398, City : clarence town\n",
      "Counter : 399, City : pangnirtung\n",
      "weather data not available\n",
      "Counter : 400, City : gushikawa\n",
      "Counter : 401, City : meulaboh\n",
      "Counter : 402, City : ocos\n",
      "Counter : 403, City : mount isa\n",
      "Counter : 404, City : sembe\n",
      "Counter : 405, City : bhatkal\n",
      "Counter : 406, City : peniche\n",
      "Counter : 407, City : port angeles\n",
      "Counter : 408, City : sur\n",
      "Counter : 409, City : kilifi\n",
      "weather data not available\n",
      "Counter : 410, City : koson\n",
      "Counter : 411, City : genoa\n",
      "weather data not available\n",
      "Counter : 412, City : egvekinot\n",
      "weather data not available\n",
      "Counter : 413, City : biltine\n",
      "Counter : 414, City : knysna\n",
      "Counter : 415, City : noumea\n",
      "weather data not available\n",
      "Counter : 416, City : bay city\n",
      "Counter : 417, City : khromtau\n",
      "Counter : 418, City : werda\n",
      "Counter : 419, City : izacic\n",
      "Counter : 420, City : beboto\n",
      "Counter : 421, City : port lincoln\n",
      "Counter : 422, City : sisimiut\n",
      "Counter : 423, City : akureyri\n",
      "Counter : 424, City : bontang\n",
      "Counter : 425, City : sabzevar\n",
      "Counter : 426, City : iranshahr\n",
      "Counter : 427, City : banes\n",
      "Counter : 428, City : ancud\n",
      "Counter : 429, City : buraydah\n",
      "Counter : 430, City : kabansk\n",
      "Counter : 431, City : fallon\n",
      "Counter : 432, City : khipro\n",
      "Counter : 433, City : ahipara\n",
      "Counter : 434, City : novopokrovka\n",
      "Counter : 435, City : fairview\n",
      "Counter : 436, City : yibin\n",
      "Counter : 437, City : banda aceh\n",
      "Counter : 438, City : saint-pierre\n",
      "Counter : 439, City : omaruru\n",
      "Counter : 440, City : byron bay\n",
      "Counter : 441, City : narrabri\n",
      "Counter : 442, City : luangwa\n",
      "Counter : 443, City : puqi\n",
      "Counter : 444, City : magistralnyy\n",
      "weather data not available\n",
      "Counter : 445, City : acarau\n",
      "Counter : 446, City : aitape\n",
      "weather data not available\n",
      "Counter : 447, City : aras\n",
      "Counter : 448, City : kurchum\n",
      "Counter : 449, City : willmar\n",
      "Counter : 450, City : port-gentil\n",
      "Counter : 451, City : orneta\n",
      "Counter : 452, City : kendari\n",
      "Counter : 453, City : minyar\n",
      "Counter : 454, City : bull savanna\n",
      "Counter : 455, City : pisco\n",
      "Counter : 456, City : vila do maio\n",
      "Counter : 457, City : tyristrand\n",
      "Counter : 458, City : matagami\n",
      "Counter : 459, City : kapit\n",
      "Counter : 460, City : makat\n",
      "Counter : 461, City : megion\n",
      "Counter : 462, City : tchibanga\n",
      "Counter : 463, City : maniwaki\n",
      "Counter : 464, City : warman\n",
      "Counter : 465, City : namatanai\n",
      "Counter : 466, City : fairbanks\n",
      "Counter : 467, City : lewistown\n",
      "Counter : 468, City : enshi\n",
      "Counter : 469, City : semarang\n",
      "Counter : 470, City : les cayes\n",
      "Counter : 471, City : uray\n",
      "weather data not available\n",
      "Counter : 472, City : yerbogachen\n",
      "Counter : 473, City : tikapur\n",
      "Counter : 474, City : san carlos de bariloche\n",
      "Counter : 475, City : turia\n",
      "Counter : 476, City : phan rang\n",
      "Counter : 477, City : zavyalovo\n",
      "Counter : 478, City : khash\n",
      "Counter : 479, City : arauco\n",
      "Counter : 480, City : seymchan\n",
      "weather data not available\n",
      "Counter : 481, City : findlay\n",
      "Counter : 482, City : ossora\n",
      "Counter : 483, City : ngunguru\n",
      "Counter : 484, City : innisfail\n",
      "Counter : 485, City : chor\n",
      "Counter : 486, City : hirtshals\n",
      "Counter : 487, City : hiranagar\n"
     ]
    },
    {
     "name": "stdout",
     "output_type": "stream",
     "text": [
      "Counter : 488, City : zhigansk\n",
      "Counter : 489, City : yemtsa\n",
      "Counter : 490, City : bambanglipuro\n",
      "Counter : 491, City : tecoanapa\n",
      "Counter : 492, City : kaspiyskiy\n",
      "Counter : 493, City : darnah\n",
      "Counter : 494, City : hualmay\n",
      "Counter : 495, City : odweyne\n",
      "Counter : 496, City : carsamba\n",
      "Counter : 497, City : ambon\n",
      "weather data not available\n",
      "Counter : 498, City : xingtai\n",
      "Counter : 499, City : nizwa\n",
      "Counter : 500, City : chicama\n",
      "Counter : 501, City : itapirapua\n",
      "Counter : 502, City : palmer\n",
      "Counter : 503, City : dakoro\n",
      "Counter : 504, City : mackay\n",
      "Counter : 505, City : vikevag\n",
      "Counter : 506, City : beroroha\n",
      "Counter : 507, City : nishihara\n",
      "Counter : 508, City : chute-aux-outardes\n",
      "weather data not available\n",
      "Counter : 509, City : chumikan\n",
      "Counter : 510, City : mangrol\n",
      "Counter : 511, City : khorramabad\n",
      "Counter : 512, City : camacha\n",
      "Counter : 513, City : bilibino\n",
      "Counter : 514, City : kieta\n",
      "Counter : 515, City : sorland\n",
      "Counter : 516, City : gorontalo\n",
      "Counter : 517, City : verkhoyansk\n",
      "Counter : 518, City : nuuk\n",
      "Counter : 519, City : atasu\n",
      "Counter : 520, City : praia da vitoria\n",
      "Counter : 521, City : jiuquan\n",
      "Counter : 522, City : dudinka\n",
      "Counter : 523, City : dargaville\n",
      "Counter : 524, City : rathdrum\n",
      "weather data not available\n",
      "Counter : 525, City : jaltenango\n",
      "weather data not available\n",
      "Counter : 526, City : nushki\n",
      "Counter : 527, City : karpathos\n",
      "Counter : 528, City : townsville\n",
      "Counter : 529, City : sesheke\n",
      "Counter : 530, City : mlyniv\n",
      "Counter : 531, City : cururupu\n",
      "Counter : 532, City : vila\n",
      "weather data not available\n",
      "Counter : 533, City : ulladulla\n",
      "Counter : 534, City : shenzhen\n",
      "Counter : 535, City : white rock\n",
      "Counter : 536, City : imbituba\n",
      "Counter : 537, City : berlevag\n",
      "Counter : 538, City : san pedro\n",
      "Counter : 539, City : toma\n",
      "Counter : 540, City : rio grande\n",
      "Counter : 541, City : san ramon\n",
      "Counter : 542, City : tazovskiy\n",
      "Counter : 543, City : flinders\n",
      "Counter : 544, City : labuhan\n",
      "Counter : 545, City : sanming\n",
      "Counter : 546, City : lewisporte\n",
      "Counter : 547, City : miyako\n",
      "Counter : 548, City : laiyang\n",
      "Counter : 549, City : aksum\n",
      "Counter : 550, City : palestine\n",
      "Counter : 551, City : balikpapan\n",
      "Counter : 552, City : baoqing\n",
      "Counter : 553, City : kerema\n",
      "Counter : 554, City : lorengau\n",
      "Counter : 555, City : jurm\n",
      "Counter : 556, City : gautier\n",
      "Counter : 557, City : kangaatsiaq\n",
      "Counter : 558, City : cassilandia\n",
      "Counter : 559, City : jaora\n",
      "Counter : 560, City : altamont\n",
      "weather data not available\n"
     ]
    }
   ],
   "source": [
    "# loop through cities, create list of responseL\n",
    "\n",
    "\n",
    "# Lists for the dataframe\n",
    "locations = []\n",
    "clouds = []\n",
    "humidity = []\n",
    "lat = []\n",
    "lon = []\n",
    "max_temp = []\n",
    "wind = []\n",
    "country = []\n",
    "dates = []\n",
    "allcitydata = []\n",
    "\n",
    "# Initial counter\n",
    "counter = 0\n",
    "\n",
    "# Did not used this - for some crazy reason - when using this format, the exception statement will not print\n",
    "# url = \"http://api.openweathermap.org/data/2.5/weather?\"\n",
    "# query_url = url + \"appid=\" + weather_api_key + \"&q=\" + city + \"&units=imperial\"\n",
    "\n",
    "query_url = f\"http://api.openweathermap.org/data/2.5/weather?appid=\"+ weather_api_key +\"&units=imperial&q=\"\n",
    "\n",
    "for city in cities:\n",
    "    try:\n",
    "        response = requests.get(query_url + city.replace(\" \",\"&\")).json()\n",
    "        clouds.append(response['clouds']['all'])\n",
    "        humidity.append(response['main']['humidity'])\n",
    "        lat.append(response['coord']['lat'])\n",
    "        lon.append(response['coord']['lon'])\n",
    "        max_temp.append(response['main']['temp_max'])\n",
    "        wind.append(response['wind']['speed'])\n",
    "        country.append(response['sys']['country'])\n",
    "        locations.append(response['name'])\n",
    "        dates.append(response['dt'])\n",
    "        allcitydata.append(response)\n",
    "        counter = counter + 1\n",
    "        print(f\"Counter : {counter}, City : {city}\")\n",
    "    except Exception:\n",
    "        print(\"weather data not available\")"
   ]
  },
  {
   "cell_type": "code",
   "execution_count": 39,
   "metadata": {},
   "outputs": [],
   "source": [
    "# allcitydata\n",
    "# clouds\n",
    "# dates\n",
    "# humidity\n",
    "# lat\n",
    "# lon\n",
    "# max_temp\n",
    "# wind\n",
    "# country\n",
    "# locations"
   ]
  },
  {
   "cell_type": "code",
   "execution_count": 34,
   "metadata": {},
   "outputs": [],
   "source": [
    "#Convert country abbreviations to full name\n",
    "full_cnames = coco.convert(names=country, to='name_short')\n",
    "# full_cnames"
   ]
  },
  {
   "cell_type": "code",
   "execution_count": 40,
   "metadata": {
    "scrolled": true
   },
   "outputs": [
    {
     "ename": "AttributeError",
     "evalue": "'list' object has no attribute 'dtype'",
     "output_type": "error",
     "traceback": [
      "\u001b[1;31m---------------------------------------------------------------------------\u001b[0m",
      "\u001b[1;31mAttributeError\u001b[0m                            Traceback (most recent call last)",
      "\u001b[1;32m<ipython-input-40-2614ccbf8c90>\u001b[0m in \u001b[0;36m<module>\u001b[1;34m\u001b[0m\n\u001b[1;32m----> 1\u001b[1;33m \u001b[0mdates\u001b[0m\u001b[1;33m.\u001b[0m\u001b[0mdtype\u001b[0m\u001b[1;33m\u001b[0m\u001b[1;33m\u001b[0m\u001b[0m\n\u001b[0m",
      "\u001b[1;31mAttributeError\u001b[0m: 'list' object has no attribute 'dtype'"
     ]
    }
   ],
   "source": [
    "# dates.dtype"
   ]
  },
  {
   "cell_type": "markdown",
   "metadata": {},
   "source": [
    "### Convert Raw Data to DataFrame\n",
    "* Export the city data into a .csv.\n",
    "* Display the DataFrame"
   ]
  },
  {
   "cell_type": "code",
   "execution_count": 36,
   "metadata": {},
   "outputs": [
    {
     "data": {
      "text/html": [
       "<div>\n",
       "<style scoped>\n",
       "    .dataframe tbody tr th:only-of-type {\n",
       "        vertical-align: middle;\n",
       "    }\n",
       "\n",
       "    .dataframe tbody tr th {\n",
       "        vertical-align: top;\n",
       "    }\n",
       "\n",
       "    .dataframe thead th {\n",
       "        text-align: right;\n",
       "    }\n",
       "</style>\n",
       "<table border=\"1\" class=\"dataframe\">\n",
       "  <thead>\n",
       "    <tr style=\"text-align: right;\">\n",
       "      <th></th>\n",
       "      <th>City</th>\n",
       "      <th>Country</th>\n",
       "      <th>Latitude</th>\n",
       "      <th>Longitude</th>\n",
       "      <th>Max_temp_F</th>\n",
       "      <th>Humidity_Percent</th>\n",
       "      <th>Cloudy_Percent</th>\n",
       "      <th>Wind_Speed_mph</th>\n",
       "      <th>Date</th>\n",
       "    </tr>\n",
       "  </thead>\n",
       "  <tbody>\n",
       "    <tr>\n",
       "      <th>0</th>\n",
       "      <td>Jamestown</td>\n",
       "      <td>United States</td>\n",
       "      <td>42.10</td>\n",
       "      <td>-79.24</td>\n",
       "      <td>36.00</td>\n",
       "      <td>86</td>\n",
       "      <td>1</td>\n",
       "      <td>9.17</td>\n",
       "      <td>1607643818</td>\n",
       "    </tr>\n",
       "    <tr>\n",
       "      <th>1</th>\n",
       "      <td>Kapaa</td>\n",
       "      <td>United States</td>\n",
       "      <td>22.08</td>\n",
       "      <td>-159.32</td>\n",
       "      <td>82.40</td>\n",
       "      <td>69</td>\n",
       "      <td>1</td>\n",
       "      <td>6.93</td>\n",
       "      <td>1607643859</td>\n",
       "    </tr>\n",
       "    <tr>\n",
       "      <th>2</th>\n",
       "      <td>Fortuna</td>\n",
       "      <td>United States</td>\n",
       "      <td>40.60</td>\n",
       "      <td>-124.16</td>\n",
       "      <td>52.00</td>\n",
       "      <td>81</td>\n",
       "      <td>40</td>\n",
       "      <td>1.99</td>\n",
       "      <td>1607643935</td>\n",
       "    </tr>\n",
       "    <tr>\n",
       "      <th>3</th>\n",
       "      <td>Castro</td>\n",
       "      <td>Brazil</td>\n",
       "      <td>-24.79</td>\n",
       "      <td>-50.01</td>\n",
       "      <td>61.61</td>\n",
       "      <td>92</td>\n",
       "      <td>20</td>\n",
       "      <td>5.12</td>\n",
       "      <td>1607643758</td>\n",
       "    </tr>\n",
       "    <tr>\n",
       "      <th>4</th>\n",
       "      <td>San</td>\n",
       "      <td>Mali</td>\n",
       "      <td>13.30</td>\n",
       "      <td>-4.90</td>\n",
       "      <td>75.13</td>\n",
       "      <td>20</td>\n",
       "      <td>0</td>\n",
       "      <td>10.74</td>\n",
       "      <td>1607643851</td>\n",
       "    </tr>\n",
       "    <tr>\n",
       "      <th>...</th>\n",
       "      <td>...</td>\n",
       "      <td>...</td>\n",
       "      <td>...</td>\n",
       "      <td>...</td>\n",
       "      <td>...</td>\n",
       "      <td>...</td>\n",
       "      <td>...</td>\n",
       "      <td>...</td>\n",
       "      <td>...</td>\n",
       "    </tr>\n",
       "    <tr>\n",
       "      <th>555</th>\n",
       "      <td>Gautier</td>\n",
       "      <td>United States</td>\n",
       "      <td>30.39</td>\n",
       "      <td>-88.61</td>\n",
       "      <td>62.60</td>\n",
       "      <td>82</td>\n",
       "      <td>1</td>\n",
       "      <td>3.89</td>\n",
       "      <td>1607644060</td>\n",
       "    </tr>\n",
       "    <tr>\n",
       "      <th>556</th>\n",
       "      <td>Kangaatsiaq</td>\n",
       "      <td>Greenland</td>\n",
       "      <td>68.31</td>\n",
       "      <td>-53.46</td>\n",
       "      <td>16.79</td>\n",
       "      <td>91</td>\n",
       "      <td>99</td>\n",
       "      <td>10.20</td>\n",
       "      <td>1607644060</td>\n",
       "    </tr>\n",
       "    <tr>\n",
       "      <th>557</th>\n",
       "      <td>Cassilândia</td>\n",
       "      <td>Brazil</td>\n",
       "      <td>-19.11</td>\n",
       "      <td>-51.73</td>\n",
       "      <td>75.49</td>\n",
       "      <td>69</td>\n",
       "      <td>94</td>\n",
       "      <td>4.43</td>\n",
       "      <td>1607644060</td>\n",
       "    </tr>\n",
       "    <tr>\n",
       "      <th>558</th>\n",
       "      <td>Jaora</td>\n",
       "      <td>India</td>\n",
       "      <td>23.63</td>\n",
       "      <td>75.13</td>\n",
       "      <td>69.17</td>\n",
       "      <td>64</td>\n",
       "      <td>94</td>\n",
       "      <td>2.57</td>\n",
       "      <td>1607644061</td>\n",
       "    </tr>\n",
       "    <tr>\n",
       "      <th>559</th>\n",
       "      <td>Altamont</td>\n",
       "      <td>United States</td>\n",
       "      <td>42.21</td>\n",
       "      <td>-121.74</td>\n",
       "      <td>44.60</td>\n",
       "      <td>36</td>\n",
       "      <td>75</td>\n",
       "      <td>12.75</td>\n",
       "      <td>1607644061</td>\n",
       "    </tr>\n",
       "  </tbody>\n",
       "</table>\n",
       "<p>560 rows × 9 columns</p>\n",
       "</div>"
      ],
      "text/plain": [
       "            City        Country  Latitude  Longitude  Max_temp_F  \\\n",
       "0      Jamestown  United States     42.10     -79.24       36.00   \n",
       "1          Kapaa  United States     22.08    -159.32       82.40   \n",
       "2        Fortuna  United States     40.60    -124.16       52.00   \n",
       "3         Castro         Brazil    -24.79     -50.01       61.61   \n",
       "4            San           Mali     13.30      -4.90       75.13   \n",
       "..           ...            ...       ...        ...         ...   \n",
       "555      Gautier  United States     30.39     -88.61       62.60   \n",
       "556  Kangaatsiaq      Greenland     68.31     -53.46       16.79   \n",
       "557  Cassilândia         Brazil    -19.11     -51.73       75.49   \n",
       "558        Jaora          India     23.63      75.13       69.17   \n",
       "559     Altamont  United States     42.21    -121.74       44.60   \n",
       "\n",
       "     Humidity_Percent  Cloudy_Percent  Wind_Speed_mph        Date  \n",
       "0                  86               1            9.17  1607643818  \n",
       "1                  69               1            6.93  1607643859  \n",
       "2                  81              40            1.99  1607643935  \n",
       "3                  92              20            5.12  1607643758  \n",
       "4                  20               0           10.74  1607643851  \n",
       "..                ...             ...             ...         ...  \n",
       "555                82               1            3.89  1607644060  \n",
       "556                91              99           10.20  1607644060  \n",
       "557                69              94            4.43  1607644060  \n",
       "558                64              94            2.57  1607644061  \n",
       "559                36              75           12.75  1607644061  \n",
       "\n",
       "[560 rows x 9 columns]"
      ]
     },
     "execution_count": 36,
     "metadata": {},
     "output_type": "execute_result"
    }
   ],
   "source": [
    "# Weather data (wd) dataframe\n",
    "\n",
    "wd_df = pd.DataFrame({\"City\" : locations, \"Country\" : full_cnames,\n",
    "                     \"Latitude\" : lat, \"Longitude\" : lon,\n",
    "                     \"Max_temp_F\" : max_temp, \"Humidity_Percent\" : humidity,\n",
    "                     \"Cloudy_Percent\" : clouds, \"Wind_Speed_mph\" : wind,\n",
    "                      \"Date\" : dates\n",
    "                     })\n",
    "wd_df"
   ]
  },
  {
   "cell_type": "code",
   "execution_count": 50,
   "metadata": {},
   "outputs": [
    {
     "data": {
      "text/plain": [
       "City                        object\n",
       "Country                     object\n",
       "Latitude                   float64\n",
       "Longitude                  float64\n",
       "Max_temp_F                 float64\n",
       "Humidity_Percent             int64\n",
       "Cloudy_Percent               int64\n",
       "Wind_Speed_mph             float64\n",
       "Date                datetime64[ns]\n",
       "dtype: object"
      ]
     },
     "execution_count": 50,
     "metadata": {},
     "output_type": "execute_result"
    }
   ],
   "source": [
    "wd_df.dtypes"
   ]
  },
  {
   "cell_type": "code",
   "execution_count": 52,
   "metadata": {},
   "outputs": [
    {
     "data": {
      "text/html": [
       "<div>\n",
       "<style scoped>\n",
       "    .dataframe tbody tr th:only-of-type {\n",
       "        vertical-align: middle;\n",
       "    }\n",
       "\n",
       "    .dataframe tbody tr th {\n",
       "        vertical-align: top;\n",
       "    }\n",
       "\n",
       "    .dataframe thead th {\n",
       "        text-align: right;\n",
       "    }\n",
       "</style>\n",
       "<table border=\"1\" class=\"dataframe\">\n",
       "  <thead>\n",
       "    <tr style=\"text-align: right;\">\n",
       "      <th></th>\n",
       "      <th>City</th>\n",
       "      <th>Country</th>\n",
       "      <th>Latitude</th>\n",
       "      <th>Longitude</th>\n",
       "      <th>Max_temp_F</th>\n",
       "      <th>Humidity_Percent</th>\n",
       "      <th>Cloudy_Percent</th>\n",
       "      <th>Wind_Speed_mph</th>\n",
       "      <th>Date</th>\n",
       "    </tr>\n",
       "  </thead>\n",
       "  <tbody>\n",
       "    <tr>\n",
       "      <th>0</th>\n",
       "      <td>Jamestown</td>\n",
       "      <td>United States</td>\n",
       "      <td>42.10</td>\n",
       "      <td>-79.24</td>\n",
       "      <td>36.00</td>\n",
       "      <td>86</td>\n",
       "      <td>1</td>\n",
       "      <td>9.17</td>\n",
       "      <td>2020-12-10 23:43:38</td>\n",
       "    </tr>\n",
       "    <tr>\n",
       "      <th>1</th>\n",
       "      <td>Kapaa</td>\n",
       "      <td>United States</td>\n",
       "      <td>22.08</td>\n",
       "      <td>-159.32</td>\n",
       "      <td>82.40</td>\n",
       "      <td>69</td>\n",
       "      <td>1</td>\n",
       "      <td>6.93</td>\n",
       "      <td>2020-12-10 23:44:19</td>\n",
       "    </tr>\n",
       "    <tr>\n",
       "      <th>2</th>\n",
       "      <td>Fortuna</td>\n",
       "      <td>United States</td>\n",
       "      <td>40.60</td>\n",
       "      <td>-124.16</td>\n",
       "      <td>52.00</td>\n",
       "      <td>81</td>\n",
       "      <td>40</td>\n",
       "      <td>1.99</td>\n",
       "      <td>2020-12-10 23:45:35</td>\n",
       "    </tr>\n",
       "    <tr>\n",
       "      <th>3</th>\n",
       "      <td>Castro</td>\n",
       "      <td>Brazil</td>\n",
       "      <td>-24.79</td>\n",
       "      <td>-50.01</td>\n",
       "      <td>61.61</td>\n",
       "      <td>92</td>\n",
       "      <td>20</td>\n",
       "      <td>5.12</td>\n",
       "      <td>2020-12-10 23:42:38</td>\n",
       "    </tr>\n",
       "    <tr>\n",
       "      <th>4</th>\n",
       "      <td>San</td>\n",
       "      <td>Mali</td>\n",
       "      <td>13.30</td>\n",
       "      <td>-4.90</td>\n",
       "      <td>75.13</td>\n",
       "      <td>20</td>\n",
       "      <td>0</td>\n",
       "      <td>10.74</td>\n",
       "      <td>2020-12-10 23:44:11</td>\n",
       "    </tr>\n",
       "    <tr>\n",
       "      <th>...</th>\n",
       "      <td>...</td>\n",
       "      <td>...</td>\n",
       "      <td>...</td>\n",
       "      <td>...</td>\n",
       "      <td>...</td>\n",
       "      <td>...</td>\n",
       "      <td>...</td>\n",
       "      <td>...</td>\n",
       "      <td>...</td>\n",
       "    </tr>\n",
       "    <tr>\n",
       "      <th>555</th>\n",
       "      <td>Gautier</td>\n",
       "      <td>United States</td>\n",
       "      <td>30.39</td>\n",
       "      <td>-88.61</td>\n",
       "      <td>62.60</td>\n",
       "      <td>82</td>\n",
       "      <td>1</td>\n",
       "      <td>3.89</td>\n",
       "      <td>2020-12-10 23:47:40</td>\n",
       "    </tr>\n",
       "    <tr>\n",
       "      <th>556</th>\n",
       "      <td>Kangaatsiaq</td>\n",
       "      <td>Greenland</td>\n",
       "      <td>68.31</td>\n",
       "      <td>-53.46</td>\n",
       "      <td>16.79</td>\n",
       "      <td>91</td>\n",
       "      <td>99</td>\n",
       "      <td>10.20</td>\n",
       "      <td>2020-12-10 23:47:40</td>\n",
       "    </tr>\n",
       "    <tr>\n",
       "      <th>557</th>\n",
       "      <td>Cassilândia</td>\n",
       "      <td>Brazil</td>\n",
       "      <td>-19.11</td>\n",
       "      <td>-51.73</td>\n",
       "      <td>75.49</td>\n",
       "      <td>69</td>\n",
       "      <td>94</td>\n",
       "      <td>4.43</td>\n",
       "      <td>2020-12-10 23:47:40</td>\n",
       "    </tr>\n",
       "    <tr>\n",
       "      <th>558</th>\n",
       "      <td>Jaora</td>\n",
       "      <td>India</td>\n",
       "      <td>23.63</td>\n",
       "      <td>75.13</td>\n",
       "      <td>69.17</td>\n",
       "      <td>64</td>\n",
       "      <td>94</td>\n",
       "      <td>2.57</td>\n",
       "      <td>2020-12-10 23:47:41</td>\n",
       "    </tr>\n",
       "    <tr>\n",
       "      <th>559</th>\n",
       "      <td>Altamont</td>\n",
       "      <td>United States</td>\n",
       "      <td>42.21</td>\n",
       "      <td>-121.74</td>\n",
       "      <td>44.60</td>\n",
       "      <td>36</td>\n",
       "      <td>75</td>\n",
       "      <td>12.75</td>\n",
       "      <td>2020-12-10 23:47:41</td>\n",
       "    </tr>\n",
       "  </tbody>\n",
       "</table>\n",
       "<p>560 rows × 9 columns</p>\n",
       "</div>"
      ],
      "text/plain": [
       "            City        Country  Latitude  Longitude  Max_temp_F  \\\n",
       "0      Jamestown  United States     42.10     -79.24       36.00   \n",
       "1          Kapaa  United States     22.08    -159.32       82.40   \n",
       "2        Fortuna  United States     40.60    -124.16       52.00   \n",
       "3         Castro         Brazil    -24.79     -50.01       61.61   \n",
       "4            San           Mali     13.30      -4.90       75.13   \n",
       "..           ...            ...       ...        ...         ...   \n",
       "555      Gautier  United States     30.39     -88.61       62.60   \n",
       "556  Kangaatsiaq      Greenland     68.31     -53.46       16.79   \n",
       "557  Cassilândia         Brazil    -19.11     -51.73       75.49   \n",
       "558        Jaora          India     23.63      75.13       69.17   \n",
       "559     Altamont  United States     42.21    -121.74       44.60   \n",
       "\n",
       "     Humidity_Percent  Cloudy_Percent  Wind_Speed_mph                Date  \n",
       "0                  86               1            9.17 2020-12-10 23:43:38  \n",
       "1                  69               1            6.93 2020-12-10 23:44:19  \n",
       "2                  81              40            1.99 2020-12-10 23:45:35  \n",
       "3                  92              20            5.12 2020-12-10 23:42:38  \n",
       "4                  20               0           10.74 2020-12-10 23:44:11  \n",
       "..                ...             ...             ...                 ...  \n",
       "555                82               1            3.89 2020-12-10 23:47:40  \n",
       "556                91              99           10.20 2020-12-10 23:47:40  \n",
       "557                69              94            4.43 2020-12-10 23:47:40  \n",
       "558                64              94            2.57 2020-12-10 23:47:41  \n",
       "559                36              75           12.75 2020-12-10 23:47:41  \n",
       "\n",
       "[560 rows x 9 columns]"
      ]
     },
     "execution_count": 52,
     "metadata": {},
     "output_type": "execute_result"
    }
   ],
   "source": [
    "# wd_df['Date'] = pd.to_datetime(wd_df['Date'],unit='s')\n",
    "# wd_df['Date'] = pd.to_datetime(wd_df['Date'],format = \"%d/%m/%Y\")\n",
    "wd_df['Date'] = pd.to_datetime(wd_df['Date'])\n",
    "wd_df['Date'].dt.minute\n",
    "wd_df"
   ]
  },
  {
   "cell_type": "code",
   "execution_count": 53,
   "metadata": {},
   "outputs": [
    {
     "data": {
      "text/plain": [
       "City                        object\n",
       "Country                     object\n",
       "Latitude                   float64\n",
       "Longitude                  float64\n",
       "Max_temp_F                 float64\n",
       "Humidity_Percent             int64\n",
       "Cloudy_Percent               int64\n",
       "Wind_Speed_mph             float64\n",
       "Date                datetime64[ns]\n",
       "dtype: object"
      ]
     },
     "execution_count": 53,
     "metadata": {},
     "output_type": "execute_result"
    }
   ],
   "source": [
    "wd_df.dtypes"
   ]
  },
  {
   "cell_type": "code",
   "execution_count": 54,
   "metadata": {},
   "outputs": [],
   "source": [
    "wd_df.to_csv('../output_data/cities.csv', index=False)"
   ]
  },
  {
   "cell_type": "markdown",
   "metadata": {},
   "source": [
    "## Inspect the data and remove the cities where the humidity > 100%.\n",
    "----\n",
    "Skip this step if there are no cities that have humidity > 100%. "
   ]
  },
  {
   "cell_type": "code",
   "execution_count": 55,
   "metadata": {},
   "outputs": [
    {
     "name": "stdout",
     "output_type": "stream",
     "text": [
      "(560, 10)\n"
     ]
    }
   ],
   "source": [
    "# Humidity check\n",
    "\n",
    "humg100 = (wd_df[\"Humidity_Percent\"] > 100)\n",
    "humg100\n",
    "\n",
    "humg100 = humg100.to_frame('Hum>100%')\n",
    "\n",
    "wdHumg100_df = wd_df.merge(humg100, how = \"outer\", left_index=True, right_index=True)\n",
    "wdHumg100_df[\"Hum>100%\"] = wdHumg100_df[\"Hum>100%\"]*1\n",
    "wdHumg100_df.head()\n",
    "print(wdHumg100_df.shape)"
   ]
  },
  {
   "cell_type": "code",
   "execution_count": 56,
   "metadata": {},
   "outputs": [
    {
     "data": {
      "text/html": [
       "<div>\n",
       "<style scoped>\n",
       "    .dataframe tbody tr th:only-of-type {\n",
       "        vertical-align: middle;\n",
       "    }\n",
       "\n",
       "    .dataframe tbody tr th {\n",
       "        vertical-align: top;\n",
       "    }\n",
       "\n",
       "    .dataframe thead th {\n",
       "        text-align: right;\n",
       "    }\n",
       "</style>\n",
       "<table border=\"1\" class=\"dataframe\">\n",
       "  <thead>\n",
       "    <tr style=\"text-align: right;\">\n",
       "      <th></th>\n",
       "      <th>City</th>\n",
       "      <th>Country</th>\n",
       "      <th>Latitude</th>\n",
       "      <th>Longitude</th>\n",
       "      <th>Max_temp_F</th>\n",
       "      <th>Humidity_Percent</th>\n",
       "      <th>Cloudy_Percent</th>\n",
       "      <th>Wind_Speed_mph</th>\n",
       "      <th>Date</th>\n",
       "      <th>Hum&gt;100%</th>\n",
       "    </tr>\n",
       "  </thead>\n",
       "  <tbody>\n",
       "  </tbody>\n",
       "</table>\n",
       "</div>"
      ],
      "text/plain": [
       "Empty DataFrame\n",
       "Columns: [City, Country, Latitude, Longitude, Max_temp_F, Humidity_Percent, Cloudy_Percent, Wind_Speed_mph, Date, Hum>100%]\n",
       "Index: []"
      ]
     },
     "execution_count": 56,
     "metadata": {},
     "output_type": "execute_result"
    }
   ],
   "source": [
    "#  Get the cities that have humidity over 100%.\n",
    "wdHumg100_df.loc[wdHumg100_df[\"Hum>100%\"] == 1]"
   ]
  },
  {
   "cell_type": "code",
   "execution_count": 57,
   "metadata": {},
   "outputs": [
    {
     "name": "stdout",
     "output_type": "stream",
     "text": [
      "(560, 10)\n"
     ]
    }
   ],
   "source": [
    "# Make a new DataFrame equal to the city data to drop all humidity outliers by index.\n",
    "# Passing \"inplace=False\" will make a copy of the city_data DataFrame, which we call \"clean_city_data\".\n",
    "\n",
    "clean_city_data = wdHumg100_df.drop(wdHumg100_df[wdHumg100_df['Hum>100%'] == 1].index, inplace = False)\n",
    "print(clean_city_data.shape)"
   ]
  },
  {
   "cell_type": "code",
   "execution_count": null,
   "metadata": {},
   "outputs": [],
   "source": [
    "\n"
   ]
  },
  {
   "cell_type": "markdown",
   "metadata": {},
   "source": [
    "## Plotting the Data\n",
    "* Use proper labeling of the plots using plot titles (including date of analysis) and axes labels.\n",
    "* Save the plotted figures as .pngs."
   ]
  },
  {
   "cell_type": "markdown",
   "metadata": {},
   "source": [
    "## Latitude vs. Temperature Plot"
   ]
  },
  {
   "cell_type": "code",
   "execution_count": 96,
   "metadata": {
    "scrolled": true
   },
   "outputs": [
    {
     "data": {
      "text/plain": [
       "Text(0.5, 1.0, 'City Latitude vs Max Temperature (1)')"
      ]
     },
     "execution_count": 96,
     "metadata": {},
     "output_type": "execute_result"
    },
    {
     "data": {
      "image/png": "[encoded data removed]",
      "text/plain": [
       "<Figure size 432x288 with 1 Axes>"
      ]
     },
     "metadata": {
      "needs_background": "light"
     },
     "output_type": "display_data"
    }
   ],
   "source": [
    "clean_city_data.plot.scatter(x = \"Latitude\", y = \"Max_temp_F\", c=\"DarkBlue\")\n",
    "# day = clean_city_data[\"Date\"].astype(str)\n",
    "# plt.title (\"City Latitude vs. Max Temperature\" + (day))\n",
    "plt.savefig(\"../Images/scatterLvT.png\")\n",
    "# plt.show()\n",
    "\n",
    "plt.xlabel(\"Latitude\")\n",
    "plt.ylabel(\"Max Temperature (F)\")\n",
    "plt.title (f\"City Latitude vs Max Temperature ({day})\")"
   ]
  },
  {
   "cell_type": "markdown",
   "metadata": {},
   "source": [
    "## Latitude vs. Humidity Plot"
   ]
  },
  {
   "cell_type": "code",
   "execution_count": 99,
   "metadata": {},
   "outputs": [
    {
     "data": {
      "image/png": "[encoded data removed]",
      "text/plain": [
       "<Figure size 432x288 with 1 Axes>"
      ]
     },
     "metadata": {
      "needs_background": "light"
     },
     "output_type": "display_data"
    }
   ],
   "source": [
    "clean_city_data.plot.scatter(x = \"Latitude\", y = \"Humidity_Percent\", c=\"DarkBlue\")\n",
    "plt.xlabel(\"Latitude\")\n",
    "plt.ylabel(\"Humidity (%)\")\n",
    "plt.title (f\"City Latitude vs Humidity ({day})\")\n",
    "plt.savefig(\"../Images/scatterLvH.png\")"
   ]
  },
  {
   "cell_type": "markdown",
   "metadata": {},
   "source": [
    "## Latitude vs. Cloudiness Plot"
   ]
  },
  {
   "cell_type": "code",
   "execution_count": 100,
   "metadata": {},
   "outputs": [
    {
     "data": {
      "image/png": "[encoded data removed]",
      "text/plain": [
       "<Figure size 432x288 with 1 Axes>"
      ]
     },
     "metadata": {
      "needs_background": "light"
     },
     "output_type": "display_data"
    }
   ],
   "source": [
    "clean_city_data.plot.scatter(x = \"Latitude\", y = \"Cloudy_Percent\", c=\"DarkBlue\")\n",
    "plt.xlabel(\"Latitude\")\n",
    "plt.ylabel(\"Cloudiness (%)\")\n",
    "plt.title (f\"City Latitude vs Cloudiness ({day})\")\n",
    "plt.savefig(\"../Images/scatterLvC.png\")"
   ]
  },
  {
   "cell_type": "markdown",
   "metadata": {},
   "source": [
    "## Latitude vs. Wind Speed Plot"
   ]
  },
  {
   "cell_type": "code",
   "execution_count": 101,
   "metadata": {},
   "outputs": [
    {
     "data": {
      "image/png": "[encoded data removed]",
      "text/plain": [
       "<Figure size 432x288 with 1 Axes>"
      ]
     },
     "metadata": {
      "needs_background": "light"
     },
     "output_type": "display_data"
    }
   ],
   "source": [
    "clean_city_data.plot.scatter(x = \"Latitude\", y = \"Wind_Speed_mph\", c=\"DarkBlue\")\n",
    "plt.xlabel(\"Latitude\")\n",
    "plt.ylabel(\"Wind Speed (mph)\")\n",
    "plt.title (f\"City Latitude vs Wind Speeed ({day})\")\n",
    "plt.savefig(\"../Images/scatterLvWS.png\")"
   ]
  },
  {
   "cell_type": "markdown",
   "metadata": {},
   "source": [
    "## Linear Regression"
   ]
  },
  {
   "cell_type": "code",
   "execution_count": 76,
   "metadata": {},
   "outputs": [
    {
     "name": "stdout",
     "output_type": "stream",
     "text": [
      "(158, 10)\n",
      "(402, 10)\n",
      "(560, 10)\n"
     ]
    }
   ],
   "source": [
    "nhclean_city_data = clean_city_data.loc[clean_city_data['Latitude'] >= 0]\n",
    "shclean_city_data = clean_city_data.loc[clean_city_data['Latitude'] < 0]\n",
    "# shclean_city_data\n",
    "print(shclean_city_data.shape)\n",
    "print(nhclean_city_data.shape)\n",
    "print(clean_city_data.shape)"
   ]
  },
  {
   "cell_type": "markdown",
   "metadata": {},
   "source": [
    "####  Northern Hemisphere - Max Temp vs. Latitude Linear Regression"
   ]
  },
  {
   "cell_type": "code",
   "execution_count": 105,
   "metadata": {},
   "outputs": [
    {
     "data": {
      "image/png": "[encoded data removed]",
      "text/plain": [
       "<Figure size 432x288 with 1 Axes>"
      ]
     },
     "metadata": {
      "needs_background": "light"
     },
     "output_type": "display_data"
    }
   ],
   "source": [
    "x_values = nhclean_city_data['Latitude']\n",
    "y_values = nhclean_city_data['Max_temp_F']\n",
    "#need to grab a single day\n",
    "# day = nhclean_city_data[\"Date\"]\n",
    "day = 1\n",
    "\n",
    "(slope, intercept, rvalue, pvalue, stderr) = linregress(x_values, y_values)\n",
    "regress_values = x_values * slope + intercept\n",
    "line_eq = \"y = \" + str(round(slope,2)) + \"x + \" + str(round(intercept,2))\n",
    "\n",
    "plt.scatter(x_values,y_values)\n",
    "plt.plot(x_values,regress_values,\"r-\")\n",
    "\n",
    "plt.annotate(line_eq,(2, -10),fontsize=15,color=\"red\")\n",
    "\n",
    "plt.xlabel(\"North Hemisphere Latitude\")\n",
    "plt.ylabel(\"Max Temperature (F)\")\n",
    "plt.title (f\"City Latitude vs Max Temperature ({day})\")\n",
    "\n",
    "# plt.annotate(f\"Correlation coefficient is {round(correlation[0],2)}\",(20,36),fontsize=10,color=\"red\")\n",
    "\n",
    "# plt.xlim(14.5,25.5)\n",
    "\n",
    "plt.grid()\n",
    "\n",
    "plt.savefig(\"../Images/scatternhLvTlr.png\")\n",
    "plt.show()"
   ]
  },
  {
   "cell_type": "markdown",
   "metadata": {},
   "source": [
    "####  Southern Hemisphere - Max Temp vs. Latitude Linear Regression"
   ]
  },
  {
   "cell_type": "code",
   "execution_count": 108,
   "metadata": {},
   "outputs": [
    {
     "data": {
      "image/png": "[encoded data removed]",
      "text/plain": [
       "<Figure size 432x288 with 1 Axes>"
      ]
     },
     "metadata": {
      "needs_background": "light"
     },
     "output_type": "display_data"
    }
   ],
   "source": [
    "x_values = shclean_city_data['Latitude']\n",
    "y_values = shclean_city_data['Max_temp_F']\n",
    "#need to grab a single day\n",
    "# day = nhclean_city_data[\"Date\"]\n",
    "day = 1\n",
    "\n",
    "(slope, intercept, rvalue, pvalue, stderr) = linregress(x_values, y_values)\n",
    "regress_values = x_values * slope + intercept\n",
    "line_eq = \"y = \" + str(round(slope,2)) + \"x + \" + str(round(intercept,2))\n",
    "\n",
    "plt.scatter(x_values,y_values)\n",
    "plt.plot(x_values,regress_values,\"r-\")\n",
    "\n",
    "plt.annotate(line_eq,(2, -10),fontsize=15,color=\"red\")\n",
    "\n",
    "plt.xlabel(\"South Hemisphere Latitude\")\n",
    "plt.ylabel(\"Max Temperature (F)\")\n",
    "plt.title (f\"City Latitude vs Max Temperature ({day})\")\n",
    "\n",
    "# plt.annotate(f\"Correlation coefficient is {round(correlation[0],2)}\",(20,36),fontsize=10,color=\"red\")\n",
    "\n",
    "# plt.xlim(14.5,25.5)\n",
    "\n",
    "plt.grid()\n",
    "\n",
    "plt.savefig(\"../Images/scattershLvTlr.png\")\n",
    "plt.show()"
   ]
  },
  {
   "cell_type": "markdown",
   "metadata": {},
   "source": [
    "####  Northern Hemisphere - Humidity (%) vs. Latitude Linear Regression"
   ]
  },
  {
   "cell_type": "code",
   "execution_count": 109,
   "metadata": {},
   "outputs": [
    {
     "data": {
      "image/png": "[encoded data removed]",
      "text/plain": [
       "<Figure size 432x288 with 1 Axes>"
      ]
     },
     "metadata": {
      "needs_background": "light"
     },
     "output_type": "display_data"
    }
   ],
   "source": [
    "x_values = nhclean_city_data['Latitude']\n",
    "y_values = nhclean_city_data['Humidity_Percent']\n",
    "#need to grab a single day\n",
    "# day = nhclean_city_data[\"Date\"]\n",
    "day = 1\n",
    "\n",
    "(slope, intercept, rvalue, pvalue, stderr) = linregress(x_values, y_values)\n",
    "regress_values = x_values * slope + intercept\n",
    "line_eq = \"y = \" + str(round(slope,2)) + \"x + \" + str(round(intercept,2))\n",
    "\n",
    "plt.scatter(x_values,y_values)\n",
    "plt.plot(x_values,regress_values,\"r-\")\n",
    "\n",
    "plt.annotate(line_eq,(2, -10),fontsize=15,color=\"red\")\n",
    "\n",
    "plt.xlabel(\"Northern Hemisphere Latitude\")\n",
    "plt.ylabel(\"Humidity (%)\")\n",
    "plt.title (f\"City Latitude vs Humidity ({day})\")\n",
    "\n",
    "# plt.annotate(f\"Correlation coefficient is {round(correlation[0],2)}\",(20,36),fontsize=10,color=\"red\")\n",
    "\n",
    "# plt.xlim(14.5,25.5)\n",
    "\n",
    "plt.grid()\n",
    "\n",
    "plt.savefig(\"../Images/scatternhLvHlr.png\")\n",
    "plt.show()"
   ]
  },
  {
   "cell_type": "markdown",
   "metadata": {},
   "source": [
    "####  Southern Hemisphere - Humidity (%) vs. Latitude Linear Regression"
   ]
  },
  {
   "cell_type": "code",
   "execution_count": 110,
   "metadata": {},
   "outputs": [
    {
     "data": {
      "image/png": "[encoded data removed]",
      "text/plain": [
       "<Figure size 432x288 with 1 Axes>"
      ]
     },
     "metadata": {
      "needs_background": "light"
     },
     "output_type": "display_data"
    }
   ],
   "source": [
    "x_values = shclean_city_data['Latitude']\n",
    "y_values = shclean_city_data['Humidity_Percent']\n",
    "#need to grab a single day\n",
    "# day = nhclean_city_data[\"Date\"]\n",
    "day = 1\n",
    "\n",
    "(slope, intercept, rvalue, pvalue, stderr) = linregress(x_values, y_values)\n",
    "regress_values = x_values * slope + intercept\n",
    "line_eq = \"y = \" + str(round(slope,2)) + \"x + \" + str(round(intercept,2))\n",
    "\n",
    "plt.scatter(x_values,y_values)\n",
    "plt.plot(x_values,regress_values,\"r-\")\n",
    "\n",
    "plt.annotate(line_eq,(2, -10),fontsize=15,color=\"red\")\n",
    "\n",
    "plt.xlabel(\"Southern Hemisphere Latitude\")\n",
    "plt.ylabel(\"Humidity (%)\")\n",
    "plt.title (f\"City Latitude vs Humidity ({day})\")\n",
    "\n",
    "# plt.annotate(f\"Correlation coefficient is {round(correlation[0],2)}\",(20,36),fontsize=10,color=\"red\")\n",
    "\n",
    "# plt.xlim(14.5,25.5)\n",
    "\n",
    "plt.grid()\n",
    "\n",
    "plt.savefig(\"../Images/scattershLvHlr.png\")\n",
    "plt.show()"
   ]
  },
  {
   "cell_type": "markdown",
   "metadata": {},
   "source": [
    "####  Northern Hemisphere - Cloudiness (%) vs. Latitude Linear Regression"
   ]
  },
  {
   "cell_type": "code",
   "execution_count": 112,
   "metadata": {},
   "outputs": [
    {
     "data": {
      "image/png": "[encoded data removed]",
      "text/plain": [
       "<Figure size 432x288 with 1 Axes>"
      ]
     },
     "metadata": {
      "needs_background": "light"
     },
     "output_type": "display_data"
    }
   ],
   "source": [
    "x_values = nhclean_city_data['Latitude']\n",
    "y_values = nhclean_city_data['Cloudy_Percent']\n",
    "#need to grab a single day\n",
    "# day = nhclean_city_data[\"Date\"]\n",
    "day = 1\n",
    "\n",
    "(slope, intercept, rvalue, pvalue, stderr) = linregress(x_values, y_values)\n",
    "regress_values = x_values * slope + intercept\n",
    "line_eq = \"y = \" + str(round(slope,2)) + \"x + \" + str(round(intercept,2))\n",
    "\n",
    "plt.scatter(x_values,y_values)\n",
    "plt.plot(x_values,regress_values,\"r-\")\n",
    "\n",
    "plt.annotate(line_eq,(2, -10),fontsize=15,color=\"red\")\n",
    "\n",
    "plt.xlabel(\"Northern Hemisphere Latitude\")\n",
    "plt.ylabel(\"Cloudiness (%)\")\n",
    "plt.title (f\"City Latitude vs Cloudiness ({day})\")\n",
    "\n",
    "# plt.annotate(f\"Correlation coefficient is {round(correlation[0],2)}\",(20,36),fontsize=10,color=\"red\")\n",
    "\n",
    "# plt.xlim(14.5,25.5)\n",
    "\n",
    "plt.grid()\n",
    "\n",
    "plt.savefig(\"../Images/scatternhLvClr.png\")\n",
    "plt.show()"
   ]
  },
  {
   "cell_type": "markdown",
   "metadata": {},
   "source": [
    "####  Southern Hemisphere - Cloudiness (%) vs. Latitude Linear Regression"
   ]
  },
  {
   "cell_type": "code",
   "execution_count": 113,
   "metadata": {},
   "outputs": [
    {
     "data": {
      "image/png": "[encoded data removed]",
      "text/plain": [
       "<Figure size 432x288 with 1 Axes>"
      ]
     },
     "metadata": {
      "needs_background": "light"
     },
     "output_type": "display_data"
    }
   ],
   "source": [
    "x_values = shclean_city_data['Latitude']\n",
    "y_values = shclean_city_data['Cloudy_Percent']\n",
    "#need to grab a single day\n",
    "# day = nhclean_city_data[\"Date\"]\n",
    "day = 1\n",
    "\n",
    "(slope, intercept, rvalue, pvalue, stderr) = linregress(x_values, y_values)\n",
    "regress_values = x_values * slope + intercept\n",
    "line_eq = \"y = \" + str(round(slope,2)) + \"x + \" + str(round(intercept,2))\n",
    "\n",
    "plt.scatter(x_values,y_values)\n",
    "plt.plot(x_values,regress_values,\"r-\")\n",
    "\n",
    "plt.annotate(line_eq,(2, -10),fontsize=15,color=\"red\")\n",
    "\n",
    "plt.xlabel(\"Southern Hemisphere Latitude\")\n",
    "plt.ylabel(\"Cloudiness (%)\")\n",
    "plt.title (f\"City Latitude vs Cloudiness ({day})\")\n",
    "\n",
    "# plt.annotate(f\"Correlation coefficient is {round(correlation[0],2)}\",(20,36),fontsize=10,color=\"red\")\n",
    "\n",
    "# plt.xlim(14.5,25.5)\n",
    "\n",
    "plt.grid()\n",
    "\n",
    "plt.savefig(\"../Images/scattershLvClr.png\")\n",
    "plt.show()"
   ]
  },
  {
   "cell_type": "markdown",
   "metadata": {},
   "source": [
    "####  Northern Hemisphere - Wind Speed (mph) vs. Latitude Linear Regression"
   ]
  },
  {
   "cell_type": "code",
   "execution_count": 114,
   "metadata": {},
   "outputs": [
    {
     "data": {
      "image/png": "[encoded data removed]",
      "text/plain": [
       "<Figure size 432x288 with 1 Axes>"
      ]
     },
     "metadata": {
      "needs_background": "light"
     },
     "output_type": "display_data"
    }
   ],
   "source": [
    "x_values = nhclean_city_data['Latitude']\n",
    "y_values = nhclean_city_data['Wind_Speed_mph']\n",
    "#need to grab a single day\n",
    "# day = nhclean_city_data[\"Date\"]\n",
    "day = 1\n",
    "\n",
    "(slope, intercept, rvalue, pvalue, stderr) = linregress(x_values, y_values)\n",
    "regress_values = x_values * slope + intercept\n",
    "line_eq = \"y = \" + str(round(slope,2)) + \"x + \" + str(round(intercept,2))\n",
    "\n",
    "plt.scatter(x_values,y_values)\n",
    "plt.plot(x_values,regress_values,\"r-\")\n",
    "\n",
    "plt.annotate(line_eq,(2, -10),fontsize=15,color=\"red\")\n",
    "\n",
    "plt.xlabel(\"Northern Hemisphere Latitude\")\n",
    "plt.ylabel(\"Wind Speed (mph)\")\n",
    "plt.title (f\"City Latitude vs Wind Speed ({day})\")\n",
    "\n",
    "# plt.annotate(f\"Correlation coefficient is {round(correlation[0],2)}\",(20,36),fontsize=10,color=\"red\")\n",
    "\n",
    "# plt.xlim(14.5,25.5)\n",
    "\n",
    "plt.grid()\n",
    "\n",
    "plt.savefig(\"../Images/scatternhLvWSlr.png\")\n",
    "plt.show()"
   ]
  },
  {
   "cell_type": "markdown",
   "metadata": {},
   "source": [
    "####  Southern Hemisphere - Wind Speed (mph) vs. Latitude Linear Regression"
   ]
  },
  {
   "cell_type": "code",
   "execution_count": 115,
   "metadata": {},
   "outputs": [
    {
     "data": {
      "image/png": "[encoded data removed]",
      "text/plain": [
       "<Figure size 432x288 with 1 Axes>"
      ]
     },
     "metadata": {
      "needs_background": "light"
     },
     "output_type": "display_data"
    }
   ],
   "source": [
    "x_values = shclean_city_data['Latitude']\n",
    "y_values = shclean_city_data['Wind_Speed_mph']\n",
    "#need to grab a single day\n",
    "# day = nhclean_city_data[\"Date\"]\n",
    "day = 1\n",
    "\n",
    "(slope, intercept, rvalue, pvalue, stderr) = linregress(x_values, y_values)\n",
    "regress_values = x_values * slope + intercept\n",
    "line_eq = \"y = \" + str(round(slope,2)) + \"x + \" + str(round(intercept,2))\n",
    "\n",
    "plt.scatter(x_values,y_values)\n",
    "plt.plot(x_values,regress_values,\"r-\")\n",
    "\n",
    "plt.annotate(line_eq,(2, -10),fontsize=15,color=\"red\")\n",
    "\n",
    "plt.xlabel(\"Southern Hemisphere Latitude\")\n",
    "plt.ylabel(\"Wind Speed (mph)\")\n",
    "plt.title (f\"City Latitude vs Wind Speed ({day})\")\n",
    "\n",
    "# plt.annotate(f\"Correlation coefficient is {round(correlation[0],2)}\",(20,36),fontsize=10,color=\"red\")\n",
    "\n",
    "# plt.xlim(14.5,25.5)\n",
    "\n",
    "plt.grid()\n",
    "\n",
    "plt.savefig(\"../Images/scattershLvWSlr.png\")\n",
    "plt.show()"
   ]
  },
  {
   "cell_type": "code",
   "execution_count": null,
   "metadata": {},
   "outputs": [],
   "source": []
  }
 ],
 "metadata": {
  "anaconda-cloud": {},
  "kernel_info": {
   "name": "python3"
  },
  "kernelspec": {
   "display_name": "Python 3",
   "language": "python",
   "name": "python3"
  },
  "language_info": {
   "codemirror_mode": {
    "name": "ipython",
    "version": 3
   },
   "file_extension": ".py",
   "mimetype": "text/x-python",
   "name": "python",
   "nbconvert_exporter": "python",
   "pygments_lexer": "ipython3",
   "version": "3.8.3"
  },
  "latex_envs": {
   "LaTeX_envs_menu_present": true,
   "autoclose": false,
   "autocomplete": true,
   "bibliofile": "biblio.bib",
   "cite_by": "apalike",
   "current_citInitial": 1,
   "eqLabelWithNumbers": true,
   "eqNumInitial": 1,
   "hotkeys": {
    "equation": "Ctrl-E",
    "itemize": "Ctrl-I"
   },
   "labels_anchors": false,
   "latex_user_defs": false,
   "report_style_numbering": false,
   "user_envs_cfg": false
  },
  "nteract": {
   "version": "0.12.3"
  }
 },
 "nbformat": 4,
 "nbformat_minor": 2
}
